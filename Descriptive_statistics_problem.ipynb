{
 "cells": [
  {
   "cell_type": "code",
   "execution_count": 5,
   "id": "97ae2a65",
   "metadata": {},
   "outputs": [],
   "source": [
    "import pandas as pd\n",
    "import matplotlib.pyplot as plt"
   ]
  },
  {
   "cell_type": "code",
   "execution_count": 6,
   "id": "aa55cc5c",
   "metadata": {},
   "outputs": [],
   "source": [
    "pd.set_option('display.float_format', lambda x: '%.3f' % x)"
   ]
  },
  {
   "cell_type": "code",
   "execution_count": 9,
   "id": "6db2e999",
   "metadata": {},
   "outputs": [
    {
     "data": {
      "text/html": [
       "<div>\n",
       "<style scoped>\n",
       "    .dataframe tbody tr th:only-of-type {\n",
       "        vertical-align: middle;\n",
       "    }\n",
       "\n",
       "    .dataframe tbody tr th {\n",
       "        vertical-align: top;\n",
       "    }\n",
       "\n",
       "    .dataframe thead th {\n",
       "        text-align: right;\n",
       "    }\n",
       "</style>\n",
       "<table border=\"1\" class=\"dataframe\">\n",
       "  <thead>\n",
       "    <tr style=\"text-align: right;\">\n",
       "      <th></th>\n",
       "      <th>No of Commercials (x)</th>\n",
       "      <th>Sales Volume (K$) (y)</th>\n",
       "    </tr>\n",
       "  </thead>\n",
       "  <tbody>\n",
       "    <tr>\n",
       "      <th>0</th>\n",
       "      <td>2</td>\n",
       "      <td>50</td>\n",
       "    </tr>\n",
       "    <tr>\n",
       "      <th>1</th>\n",
       "      <td>5</td>\n",
       "      <td>57</td>\n",
       "    </tr>\n",
       "    <tr>\n",
       "      <th>2</th>\n",
       "      <td>1</td>\n",
       "      <td>41</td>\n",
       "    </tr>\n",
       "    <tr>\n",
       "      <th>3</th>\n",
       "      <td>3</td>\n",
       "      <td>54</td>\n",
       "    </tr>\n",
       "    <tr>\n",
       "      <th>4</th>\n",
       "      <td>4</td>\n",
       "      <td>54</td>\n",
       "    </tr>\n",
       "    <tr>\n",
       "      <th>5</th>\n",
       "      <td>1</td>\n",
       "      <td>38</td>\n",
       "    </tr>\n",
       "    <tr>\n",
       "      <th>6</th>\n",
       "      <td>5</td>\n",
       "      <td>63</td>\n",
       "    </tr>\n",
       "    <tr>\n",
       "      <th>7</th>\n",
       "      <td>3</td>\n",
       "      <td>48</td>\n",
       "    </tr>\n",
       "    <tr>\n",
       "      <th>8</th>\n",
       "      <td>4</td>\n",
       "      <td>59</td>\n",
       "    </tr>\n",
       "    <tr>\n",
       "      <th>9</th>\n",
       "      <td>2</td>\n",
       "      <td>46</td>\n",
       "    </tr>\n",
       "  </tbody>\n",
       "</table>\n",
       "</div>"
      ],
      "text/plain": [
       "   No of Commercials (x)  Sales Volume (K$) (y)\n",
       "0                      2                     50\n",
       "1                      5                     57\n",
       "2                      1                     41\n",
       "3                      3                     54\n",
       "4                      4                     54\n",
       "5                      1                     38\n",
       "6                      5                     63\n",
       "7                      3                     48\n",
       "8                      4                     59\n",
       "9                      2                     46"
      ]
     },
     "execution_count": 9,
     "metadata": {},
     "output_type": "execute_result"
    }
   ],
   "source": [
    "comm_sales_k = pd.read_excel(r\"C:\\Users\\hemachandrao.balu\\Downloads\\Descrip_Stats_problem_data_v1.xlsx\", sheet_name='Problem1', nrows=10)\n",
    "comm_sales_k"
   ]
  },
  {
   "cell_type": "code",
   "execution_count": 13,
   "id": "18a579c4",
   "metadata": {},
   "outputs": [
    {
     "name": "stdout",
     "output_type": "stream",
     "text": [
      "<class 'pandas.core.frame.DataFrame'>\n",
      "RangeIndex: 10 entries, 0 to 9\n",
      "Data columns (total 2 columns):\n",
      " #   Column                 Non-Null Count  Dtype\n",
      "---  ------                 --------------  -----\n",
      " 0   No of Commercials (x)  10 non-null     int64\n",
      " 1   Sales Volume (K$) (y)  10 non-null     int64\n",
      "dtypes: int64(2)\n",
      "memory usage: 288.0 bytes\n"
     ]
    }
   ],
   "source": [
    "comm_sales_k.info()"
   ]
  },
  {
   "cell_type": "markdown",
   "id": "8d450b16",
   "metadata": {},
   "source": [
    "1. In a Sound and stereo store in Chicago the manager wants to know is there any relationship between the number of weekend television commercials shown and sales at the store at the following week. The sample data of the store is provided in the spread sheet tab. Use that to solve the below problem\n",
    "\n",
    "1. Find the covariance between the variables and tell us is there any relationship between them\n"
   ]
  },
  {
   "cell_type": "code",
   "execution_count": 15,
   "id": "e067c329",
   "metadata": {},
   "outputs": [
    {
     "name": "stdout",
     "output_type": "stream",
     "text": [
      "3.0\n",
      "51.0\n",
      "10\n"
     ]
    }
   ],
   "source": [
    "def covariance(x,y,n):\n",
    "    return ((x-x.mean()) * (y-y.mean())).sum() / (n-1)\n",
    "x_k = comm_sales_k['No of Commercials (x)']\n",
    "y_k = comm_sales_k['Sales Volume (K$) (y)']\n",
    "n_k = len(comm_sales_k)\n",
    "\n",
    "print(x_k.mean())\n",
    "print(y_k.mean())\n",
    "print(n_k)"
   ]
  },
  {
   "cell_type": "code",
   "execution_count": 16,
   "id": "3e695552",
   "metadata": {},
   "outputs": [
    {
     "data": {
      "text/plain": [
       "11.0"
      ]
     },
     "execution_count": 16,
     "metadata": {},
     "output_type": "execute_result"
    }
   ],
   "source": [
    "covariance(x_k,y_k,n_k)"
   ]
  },
  {
   "cell_type": "code",
   "execution_count": 17,
   "id": "ee2101a0",
   "metadata": {},
   "outputs": [
    {
     "data": {
      "text/html": [
       "<div>\n",
       "<style scoped>\n",
       "    .dataframe tbody tr th:only-of-type {\n",
       "        vertical-align: middle;\n",
       "    }\n",
       "\n",
       "    .dataframe tbody tr th {\n",
       "        vertical-align: top;\n",
       "    }\n",
       "\n",
       "    .dataframe thead th {\n",
       "        text-align: right;\n",
       "    }\n",
       "</style>\n",
       "<table border=\"1\" class=\"dataframe\">\n",
       "  <thead>\n",
       "    <tr style=\"text-align: right;\">\n",
       "      <th></th>\n",
       "      <th>No of Commercials (x)</th>\n",
       "      <th>Sales Volume (K$) (y)</th>\n",
       "    </tr>\n",
       "  </thead>\n",
       "  <tbody>\n",
       "    <tr>\n",
       "      <th>No of Commercials (x)</th>\n",
       "      <td>2.222</td>\n",
       "      <td>11.000</td>\n",
       "    </tr>\n",
       "    <tr>\n",
       "      <th>Sales Volume (K$) (y)</th>\n",
       "      <td>11.000</td>\n",
       "      <td>62.889</td>\n",
       "    </tr>\n",
       "  </tbody>\n",
       "</table>\n",
       "</div>"
      ],
      "text/plain": [
       "                       No of Commercials (x)  Sales Volume (K$) (y)\n",
       "No of Commercials (x)                  2.222                 11.000\n",
       "Sales Volume (K$) (y)                 11.000                 62.889"
      ]
     },
     "execution_count": 17,
     "metadata": {},
     "output_type": "execute_result"
    }
   ],
   "source": [
    "comm_sales_k.cov()"
   ]
  },
  {
   "cell_type": "markdown",
   "id": "9a08935d",
   "metadata": {},
   "source": [
    "2. Is the Sales and number of commercials correlated? If yes - Positive/ Negative"
   ]
  },
  {
   "cell_type": "code",
   "execution_count": 23,
   "id": "386a36c7",
   "metadata": {},
   "outputs": [],
   "source": [
    "def correlation(x,y,n):\n",
    "    return covariance(x,y,n) / (x.std() * y.std())\n"
   ]
  },
  {
   "cell_type": "code",
   "execution_count": 24,
   "id": "6923a391",
   "metadata": {},
   "outputs": [
    {
     "data": {
      "text/plain": [
       "0.9304905807411791"
      ]
     },
     "execution_count": 24,
     "metadata": {},
     "output_type": "execute_result"
    }
   ],
   "source": [
    "correlation(x_k, y_k, n_k)"
   ]
  },
  {
   "cell_type": "code",
   "execution_count": 25,
   "id": "8813bcec",
   "metadata": {},
   "outputs": [
    {
     "data": {
      "text/html": [
       "<div>\n",
       "<style scoped>\n",
       "    .dataframe tbody tr th:only-of-type {\n",
       "        vertical-align: middle;\n",
       "    }\n",
       "\n",
       "    .dataframe tbody tr th {\n",
       "        vertical-align: top;\n",
       "    }\n",
       "\n",
       "    .dataframe thead th {\n",
       "        text-align: right;\n",
       "    }\n",
       "</style>\n",
       "<table border=\"1\" class=\"dataframe\">\n",
       "  <thead>\n",
       "    <tr style=\"text-align: right;\">\n",
       "      <th></th>\n",
       "      <th>No of Commercials (x)</th>\n",
       "      <th>Sales Volume (K$) (y)</th>\n",
       "    </tr>\n",
       "  </thead>\n",
       "  <tbody>\n",
       "    <tr>\n",
       "      <th>No of Commercials (x)</th>\n",
       "      <td>1.000</td>\n",
       "      <td>0.930</td>\n",
       "    </tr>\n",
       "    <tr>\n",
       "      <th>Sales Volume (K$) (y)</th>\n",
       "      <td>0.930</td>\n",
       "      <td>1.000</td>\n",
       "    </tr>\n",
       "  </tbody>\n",
       "</table>\n",
       "</div>"
      ],
      "text/plain": [
       "                       No of Commercials (x)  Sales Volume (K$) (y)\n",
       "No of Commercials (x)                  1.000                  0.930\n",
       "Sales Volume (K$) (y)                  0.930                  1.000"
      ]
     },
     "execution_count": 25,
     "metadata": {},
     "output_type": "execute_result"
    }
   ],
   "source": [
    "comm_sales_k.corr()"
   ]
  },
  {
   "cell_type": "code",
   "execution_count": null,
   "id": "3b5f5e30",
   "metadata": {},
   "outputs": [],
   "source": []
  },
  {
   "cell_type": "code",
   "execution_count": 22,
   "id": "098a332e",
   "metadata": {
    "scrolled": true
   },
   "outputs": [
    {
     "data": {
      "text/plain": [
       "Text(0, 0.5, 'Sales Volume (in K$)')"
      ]
     },
     "execution_count": 22,
     "metadata": {},
     "output_type": "execute_result"
    },
    {
     "data": {
      "image/png": "[encoded data removed]",
      "text/plain": [
       "<Figure size 432x288 with 1 Axes>"
      ]
     },
     "metadata": {
      "needs_background": "light"
     },
     "output_type": "display_data"
    }
   ],
   "source": [
    "plt.scatter(x_k, y_k)\n",
    "plt.xlabel('No of Commercials')\n",
    "plt.ylabel('Sales Volume (in K$)')"
   ]
  },
  {
   "cell_type": "markdown",
   "id": "570835ff",
   "metadata": {},
   "source": [
    "2. In the above problem the Manager has been provided the data with the sales amount measured in Kilo $ (1000$). But now the sales team provides a new data in Tab 2 with the amount in $. Does this unit of measurement impact the covariance and correlation calculated in problem1. The data is in Tab2\n",
    "\n",
    "Calculate the new covariance and correlation and confirm"
   ]
  },
  {
   "cell_type": "code",
   "execution_count": 26,
   "id": "89c28ab5",
   "metadata": {},
   "outputs": [],
   "source": [
    "comm_sales = pd.read_excel(\"Descrip_Stats_problem_data_v1.xlsx\", sheet_name='Problem2', nrows=10)"
   ]
  },
  {
   "cell_type": "code",
   "execution_count": 28,
   "id": "9263c82a",
   "metadata": {},
   "outputs": [
    {
     "name": "stdout",
     "output_type": "stream",
     "text": [
      "11.0\n",
      "11000.0\n"
     ]
    }
   ],
   "source": [
    "x = comm_sales['No of Commercials (x)']\n",
    "y = comm_sales['Sales Volume ($) (y)']\n",
    "n = len(comm_sales)\n",
    "print(covariance(x_k, y_k, n_k))\n",
    "print(covariance(x, y, n))"
   ]
  },
  {
   "cell_type": "code",
   "execution_count": 29,
   "id": "77415def",
   "metadata": {},
   "outputs": [
    {
     "name": "stdout",
     "output_type": "stream",
     "text": [
      "0.9304905807411791\n",
      "0.9304905807411791\n"
     ]
    }
   ],
   "source": [
    "print(correlation(x_k,y_k,n_k))\n",
    "print(correlation(x,y,n))"
   ]
  },
  {
   "cell_type": "markdown",
   "id": "f8fc4497",
   "metadata": {},
   "source": [
    "3. The sales report about the pharmaceutical company in million $ for the 21 states in US has been provided in the spread sheet\n",
    "\n",
    "        \n",
    "       1. Provide the five number summary of the box plot"
   ]
  },
  {
   "cell_type": "code",
   "execution_count": 30,
   "id": "8132f513",
   "metadata": {},
   "outputs": [],
   "source": [
    "us_sales = pd.read_excel(r\"C:\\Users\\hemachandrao.balu\\Downloads\\Descrip_Stats_problem_data_v1.xlsx\", sheet_name='Problem3')"
   ]
  },
  {
   "cell_type": "code",
   "execution_count": 31,
   "id": "2abfa32d",
   "metadata": {},
   "outputs": [
    {
     "data": {
      "text/html": [
       "<div>\n",
       "<style scoped>\n",
       "    .dataframe tbody tr th:only-of-type {\n",
       "        vertical-align: middle;\n",
       "    }\n",
       "\n",
       "    .dataframe tbody tr th {\n",
       "        vertical-align: top;\n",
       "    }\n",
       "\n",
       "    .dataframe thead th {\n",
       "        text-align: right;\n",
       "    }\n",
       "</style>\n",
       "<table border=\"1\" class=\"dataframe\">\n",
       "  <thead>\n",
       "    <tr style=\"text-align: right;\">\n",
       "      <th></th>\n",
       "      <th>State</th>\n",
       "      <th>Sales</th>\n",
       "    </tr>\n",
       "  </thead>\n",
       "  <tbody>\n",
       "    <tr>\n",
       "      <th>0</th>\n",
       "      <td>Arizona</td>\n",
       "      <td>8408</td>\n",
       "    </tr>\n",
       "    <tr>\n",
       "      <th>1</th>\n",
       "      <td>California</td>\n",
       "      <td>1374</td>\n",
       "    </tr>\n",
       "    <tr>\n",
       "      <th>2</th>\n",
       "      <td>Colorado</td>\n",
       "      <td>1872</td>\n",
       "    </tr>\n",
       "    <tr>\n",
       "      <th>3</th>\n",
       "      <td>Florida</td>\n",
       "      <td>8879</td>\n",
       "    </tr>\n",
       "    <tr>\n",
       "      <th>4</th>\n",
       "      <td>Georgia</td>\n",
       "      <td>2459</td>\n",
       "    </tr>\n",
       "    <tr>\n",
       "      <th>5</th>\n",
       "      <td>Kansas</td>\n",
       "      <td>11413</td>\n",
       "    </tr>\n",
       "    <tr>\n",
       "      <th>6</th>\n",
       "      <td>Kentucky</td>\n",
       "      <td>608</td>\n",
       "    </tr>\n",
       "    <tr>\n",
       "      <th>7</th>\n",
       "      <td>Ohio</td>\n",
       "      <td>14138</td>\n",
       "    </tr>\n",
       "    <tr>\n",
       "      <th>8</th>\n",
       "      <td>Maryland</td>\n",
       "      <td>6452</td>\n",
       "    </tr>\n",
       "    <tr>\n",
       "      <th>9</th>\n",
       "      <td>Massachusetts</td>\n",
       "      <td>1850</td>\n",
       "    </tr>\n",
       "    <tr>\n",
       "      <th>10</th>\n",
       "      <td>Michigan</td>\n",
       "      <td>2818</td>\n",
       "    </tr>\n",
       "    <tr>\n",
       "      <th>11</th>\n",
       "      <td>Mississippi</td>\n",
       "      <td>1356</td>\n",
       "    </tr>\n",
       "    <tr>\n",
       "      <th>12</th>\n",
       "      <td>Missouri</td>\n",
       "      <td>10498</td>\n",
       "    </tr>\n",
       "    <tr>\n",
       "      <th>13</th>\n",
       "      <td>New Jersey</td>\n",
       "      <td>7478</td>\n",
       "    </tr>\n",
       "    <tr>\n",
       "      <th>14</th>\n",
       "      <td>Louisiana</td>\n",
       "      <td>4019</td>\n",
       "    </tr>\n",
       "    <tr>\n",
       "      <th>15</th>\n",
       "      <td>Oklahoma</td>\n",
       "      <td>4341</td>\n",
       "    </tr>\n",
       "    <tr>\n",
       "      <th>16</th>\n",
       "      <td>Tennessee</td>\n",
       "      <td>739</td>\n",
       "    </tr>\n",
       "    <tr>\n",
       "      <th>17</th>\n",
       "      <td>Texas</td>\n",
       "      <td>2127</td>\n",
       "    </tr>\n",
       "    <tr>\n",
       "      <th>18</th>\n",
       "      <td>Virginia</td>\n",
       "      <td>3653</td>\n",
       "    </tr>\n",
       "    <tr>\n",
       "      <th>19</th>\n",
       "      <td>Washington</td>\n",
       "      <td>5794</td>\n",
       "    </tr>\n",
       "    <tr>\n",
       "      <th>20</th>\n",
       "      <td>West Virginia</td>\n",
       "      <td>8305</td>\n",
       "    </tr>\n",
       "  </tbody>\n",
       "</table>\n",
       "</div>"
      ],
      "text/plain": [
       "             State  Sales\n",
       "0         Arizona    8408\n",
       "1      California    1374\n",
       "2        Colorado    1872\n",
       "3         Florida    8879\n",
       "4         Georgia    2459\n",
       "5          Kansas   11413\n",
       "6        Kentucky     608\n",
       "7             Ohio  14138\n",
       "8        Maryland    6452\n",
       "9   Massachusetts    1850\n",
       "10       Michigan    2818\n",
       "11    Mississippi    1356\n",
       "12       Missouri   10498\n",
       "13     New Jersey    7478\n",
       "14      Louisiana    4019\n",
       "15       Oklahoma    4341\n",
       "16      Tennessee     739\n",
       "17          Texas    2127\n",
       "18       Virginia    3653\n",
       "19     Washington    5794\n",
       "20  West Virginia    8305"
      ]
     },
     "execution_count": 31,
     "metadata": {},
     "output_type": "execute_result"
    }
   ],
   "source": [
    "us_sales"
   ]
  },
  {
   "cell_type": "code",
   "execution_count": 32,
   "id": "564e0f4c",
   "metadata": {},
   "outputs": [
    {
     "data": {
      "text/html": [
       "<div>\n",
       "<style scoped>\n",
       "    .dataframe tbody tr th:only-of-type {\n",
       "        vertical-align: middle;\n",
       "    }\n",
       "\n",
       "    .dataframe tbody tr th {\n",
       "        vertical-align: top;\n",
       "    }\n",
       "\n",
       "    .dataframe thead th {\n",
       "        text-align: right;\n",
       "    }\n",
       "</style>\n",
       "<table border=\"1\" class=\"dataframe\">\n",
       "  <thead>\n",
       "    <tr style=\"text-align: right;\">\n",
       "      <th></th>\n",
       "      <th>State</th>\n",
       "      <th>Sales</th>\n",
       "    </tr>\n",
       "  </thead>\n",
       "  <tbody>\n",
       "    <tr>\n",
       "      <th>count</th>\n",
       "      <td>21</td>\n",
       "      <td>21.000</td>\n",
       "    </tr>\n",
       "    <tr>\n",
       "      <th>unique</th>\n",
       "      <td>21</td>\n",
       "      <td>NaN</td>\n",
       "    </tr>\n",
       "    <tr>\n",
       "      <th>top</th>\n",
       "      <td>Arizona</td>\n",
       "      <td>NaN</td>\n",
       "    </tr>\n",
       "    <tr>\n",
       "      <th>freq</th>\n",
       "      <td>1</td>\n",
       "      <td>NaN</td>\n",
       "    </tr>\n",
       "    <tr>\n",
       "      <th>mean</th>\n",
       "      <td>NaN</td>\n",
       "      <td>5170.524</td>\n",
       "    </tr>\n",
       "    <tr>\n",
       "      <th>std</th>\n",
       "      <td>NaN</td>\n",
       "      <td>3917.733</td>\n",
       "    </tr>\n",
       "    <tr>\n",
       "      <th>min</th>\n",
       "      <td>NaN</td>\n",
       "      <td>608.000</td>\n",
       "    </tr>\n",
       "    <tr>\n",
       "      <th>25%</th>\n",
       "      <td>NaN</td>\n",
       "      <td>1872.000</td>\n",
       "    </tr>\n",
       "    <tr>\n",
       "      <th>50%</th>\n",
       "      <td>NaN</td>\n",
       "      <td>4019.000</td>\n",
       "    </tr>\n",
       "    <tr>\n",
       "      <th>75%</th>\n",
       "      <td>NaN</td>\n",
       "      <td>8305.000</td>\n",
       "    </tr>\n",
       "    <tr>\n",
       "      <th>max</th>\n",
       "      <td>NaN</td>\n",
       "      <td>14138.000</td>\n",
       "    </tr>\n",
       "  </tbody>\n",
       "</table>\n",
       "</div>"
      ],
      "text/plain": [
       "           State     Sales\n",
       "count         21    21.000\n",
       "unique        21       NaN\n",
       "top     Arizona        NaN\n",
       "freq           1       NaN\n",
       "mean         NaN  5170.524\n",
       "std          NaN  3917.733\n",
       "min          NaN   608.000\n",
       "25%          NaN  1872.000\n",
       "50%          NaN  4019.000\n",
       "75%          NaN  8305.000\n",
       "max          NaN 14138.000"
      ]
     },
     "execution_count": 32,
     "metadata": {},
     "output_type": "execute_result"
    }
   ],
   "source": [
    "us_sales.describe(include='all')"
   ]
  },
  {
   "cell_type": "code",
   "execution_count": 33,
   "id": "ed6e7a2a",
   "metadata": {},
   "outputs": [
    {
     "data": {
      "text/plain": [
       "<AxesSubplot:>"
      ]
     },
     "execution_count": 33,
     "metadata": {},
     "output_type": "execute_result"
    },
    {
     "data": {
      "image/png": "[encoded data removed]",
      "text/plain": [
       "<Figure size 432x288 with 1 Axes>"
      ]
     },
     "metadata": {
      "needs_background": "light"
     },
     "output_type": "display_data"
    }
   ],
   "source": [
    "us_sales.boxplot()"
   ]
  },
  {
   "cell_type": "markdown",
   "id": "b488ebc2",
   "metadata": {},
   "source": [
    "2. Compute the lower and upper limits"
   ]
  },
  {
   "cell_type": "code",
   "execution_count": 34,
   "id": "b28b13f4",
   "metadata": {},
   "outputs": [],
   "source": [
    "import math"
   ]
  },
  {
   "cell_type": "code",
   "execution_count": 36,
   "id": "580a991e",
   "metadata": {},
   "outputs": [
    {
     "data": {
      "text/plain": [
       "(1872.0, 8305.0, 6433.0, -7777, 17954)"
      ]
     },
     "execution_count": 36,
     "metadata": {},
     "output_type": "execute_result"
    }
   ],
   "source": [
    "Q1 = us_sales['Sales'].quantile(0.25)\n",
    "Q3 = us_sales['Sales'].quantile(0.75)\n",
    "IQR = Q3 - Q1\n",
    "L = math.ceil(Q1 - 1.5 * IQR)\n",
    "U = math.floor(Q3 + 1.5 * IQR)\n",
    "Q1, Q3, IQR, L, U"
   ]
  },
  {
   "cell_type": "markdown",
   "id": "6833173b",
   "metadata": {},
   "source": [
    "3. Does the data contain any outlier ?\n",
    "The data has no outliers. All the values in Sales col are bounded between the Lower and Upper Limits (-7777, 17954)"
   ]
  },
  {
   "cell_type": "markdown",
   "id": "8f6d7fe8",
   "metadata": {},
   "source": [
    "4. Ohio state has the highest sales at $14,138 million. Suppose a data entry error has been made as $ 41,138 million would this been identified as an outlier and corrected"
   ]
  },
  {
   "cell_type": "code",
   "execution_count": 37,
   "id": "eb551210",
   "metadata": {},
   "outputs": [
    {
     "data": {
      "text/html": [
       "<div>\n",
       "<style scoped>\n",
       "    .dataframe tbody tr th:only-of-type {\n",
       "        vertical-align: middle;\n",
       "    }\n",
       "\n",
       "    .dataframe tbody tr th {\n",
       "        vertical-align: top;\n",
       "    }\n",
       "\n",
       "    .dataframe thead th {\n",
       "        text-align: right;\n",
       "    }\n",
       "</style>\n",
       "<table border=\"1\" class=\"dataframe\">\n",
       "  <thead>\n",
       "    <tr style=\"text-align: right;\">\n",
       "      <th></th>\n",
       "      <th>State</th>\n",
       "      <th>Sales</th>\n",
       "    </tr>\n",
       "  </thead>\n",
       "  <tbody>\n",
       "    <tr>\n",
       "      <th>count</th>\n",
       "      <td>21</td>\n",
       "      <td>21.000</td>\n",
       "    </tr>\n",
       "    <tr>\n",
       "      <th>unique</th>\n",
       "      <td>21</td>\n",
       "      <td>NaN</td>\n",
       "    </tr>\n",
       "    <tr>\n",
       "      <th>top</th>\n",
       "      <td>Arizona</td>\n",
       "      <td>NaN</td>\n",
       "    </tr>\n",
       "    <tr>\n",
       "      <th>freq</th>\n",
       "      <td>1</td>\n",
       "      <td>NaN</td>\n",
       "    </tr>\n",
       "    <tr>\n",
       "      <th>mean</th>\n",
       "      <td>NaN</td>\n",
       "      <td>6456.238</td>\n",
       "    </tr>\n",
       "    <tr>\n",
       "      <th>std</th>\n",
       "      <td>NaN</td>\n",
       "      <td>8618.300</td>\n",
       "    </tr>\n",
       "    <tr>\n",
       "      <th>min</th>\n",
       "      <td>NaN</td>\n",
       "      <td>608.000</td>\n",
       "    </tr>\n",
       "    <tr>\n",
       "      <th>25%</th>\n",
       "      <td>NaN</td>\n",
       "      <td>1872.000</td>\n",
       "    </tr>\n",
       "    <tr>\n",
       "      <th>50%</th>\n",
       "      <td>NaN</td>\n",
       "      <td>4019.000</td>\n",
       "    </tr>\n",
       "    <tr>\n",
       "      <th>75%</th>\n",
       "      <td>NaN</td>\n",
       "      <td>8305.000</td>\n",
       "    </tr>\n",
       "    <tr>\n",
       "      <th>max</th>\n",
       "      <td>NaN</td>\n",
       "      <td>41138.000</td>\n",
       "    </tr>\n",
       "  </tbody>\n",
       "</table>\n",
       "</div>"
      ],
      "text/plain": [
       "           State     Sales\n",
       "count         21    21.000\n",
       "unique        21       NaN\n",
       "top     Arizona        NaN\n",
       "freq           1       NaN\n",
       "mean         NaN  6456.238\n",
       "std          NaN  8618.300\n",
       "min          NaN   608.000\n",
       "25%          NaN  1872.000\n",
       "50%          NaN  4019.000\n",
       "75%          NaN  8305.000\n",
       "max          NaN 41138.000"
      ]
     },
     "execution_count": 37,
     "metadata": {},
     "output_type": "execute_result"
    }
   ],
   "source": [
    "us_sales.loc[us_sales['State']=='Ohio', 'Sales'] = 41138\n",
    "us_sales.describe(include='all')"
   ]
  },
  {
   "cell_type": "code",
   "execution_count": 39,
   "id": "f859cd21",
   "metadata": {},
   "outputs": [
    {
     "data": {
      "text/plain": [
       "<AxesSubplot:>"
      ]
     },
     "execution_count": 39,
     "metadata": {},
     "output_type": "execute_result"
    },
    {
     "data": {
      "image/png": "[encoded data removed]",
      "text/plain": [
       "<Figure size 432x288 with 1 Axes>"
      ]
     },
     "metadata": {
      "needs_background": "light"
     },
     "output_type": "display_data"
    }
   ],
   "source": [
    "us_sales.boxplot()"
   ]
  },
  {
   "cell_type": "code",
   "execution_count": 40,
   "id": "73b99d68",
   "metadata": {},
   "outputs": [
    {
     "data": {
      "text/plain": [
       "(1872.0, 8305.0, 6433.0, -7777, 17954)"
      ]
     },
     "execution_count": 40,
     "metadata": {},
     "output_type": "execute_result"
    }
   ],
   "source": [
    "Q1 = us_sales['Sales'].quantile(0.25)\n",
    "Q3 = us_sales['Sales'].quantile(0.75)\n",
    "IQR = Q3 - Q1\n",
    "L = math.ceil(Q1 - 1.5 * IQR)\n",
    "U = math.floor(Q3 + 1.5 * IQR)\n",
    "Q1, Q3, IQR, L, U"
   ]
  },
  {
   "cell_type": "code",
   "execution_count": 41,
   "id": "bfd39c1d",
   "metadata": {},
   "outputs": [
    {
     "data": {
      "text/html": [
       "<div>\n",
       "<style scoped>\n",
       "    .dataframe tbody tr th:only-of-type {\n",
       "        vertical-align: middle;\n",
       "    }\n",
       "\n",
       "    .dataframe tbody tr th {\n",
       "        vertical-align: top;\n",
       "    }\n",
       "\n",
       "    .dataframe thead th {\n",
       "        text-align: right;\n",
       "    }\n",
       "</style>\n",
       "<table border=\"1\" class=\"dataframe\">\n",
       "  <thead>\n",
       "    <tr style=\"text-align: right;\">\n",
       "      <th></th>\n",
       "      <th>State</th>\n",
       "      <th>Sales</th>\n",
       "    </tr>\n",
       "  </thead>\n",
       "  <tbody>\n",
       "    <tr>\n",
       "      <th>7</th>\n",
       "      <td>Ohio</td>\n",
       "      <td>41138</td>\n",
       "    </tr>\n",
       "  </tbody>\n",
       "</table>\n",
       "</div>"
      ],
      "text/plain": [
       "  State  Sales\n",
       "7  Ohio  41138"
      ]
     },
     "execution_count": 41,
     "metadata": {},
     "output_type": "execute_result"
    }
   ],
   "source": [
    "us_sales[(us_sales['Sales'] < L) | (us_sales['Sales'] > U)]"
   ]
  },
  {
   "cell_type": "code",
   "execution_count": 42,
   "id": "6df01d37",
   "metadata": {},
   "outputs": [
    {
     "data": {
      "text/html": [
       "<div>\n",
       "<style scoped>\n",
       "    .dataframe tbody tr th:only-of-type {\n",
       "        vertical-align: middle;\n",
       "    }\n",
       "\n",
       "    .dataframe tbody tr th {\n",
       "        vertical-align: top;\n",
       "    }\n",
       "\n",
       "    .dataframe thead th {\n",
       "        text-align: right;\n",
       "    }\n",
       "</style>\n",
       "<table border=\"1\" class=\"dataframe\">\n",
       "  <thead>\n",
       "    <tr style=\"text-align: right;\">\n",
       "      <th></th>\n",
       "      <th>State</th>\n",
       "      <th>Sales</th>\n",
       "    </tr>\n",
       "  </thead>\n",
       "  <tbody>\n",
       "    <tr>\n",
       "      <th>count</th>\n",
       "      <td>20</td>\n",
       "      <td>20.000</td>\n",
       "    </tr>\n",
       "    <tr>\n",
       "      <th>unique</th>\n",
       "      <td>20</td>\n",
       "      <td>NaN</td>\n",
       "    </tr>\n",
       "    <tr>\n",
       "      <th>top</th>\n",
       "      <td>Arizona</td>\n",
       "      <td>NaN</td>\n",
       "    </tr>\n",
       "    <tr>\n",
       "      <th>freq</th>\n",
       "      <td>1</td>\n",
       "      <td>NaN</td>\n",
       "    </tr>\n",
       "    <tr>\n",
       "      <th>mean</th>\n",
       "      <td>NaN</td>\n",
       "      <td>4722.150</td>\n",
       "    </tr>\n",
       "    <tr>\n",
       "      <th>std</th>\n",
       "      <td>NaN</td>\n",
       "      <td>3422.343</td>\n",
       "    </tr>\n",
       "    <tr>\n",
       "      <th>min</th>\n",
       "      <td>NaN</td>\n",
       "      <td>608.000</td>\n",
       "    </tr>\n",
       "    <tr>\n",
       "      <th>25%</th>\n",
       "      <td>NaN</td>\n",
       "      <td>1866.500</td>\n",
       "    </tr>\n",
       "    <tr>\n",
       "      <th>50%</th>\n",
       "      <td>NaN</td>\n",
       "      <td>3836.000</td>\n",
       "    </tr>\n",
       "    <tr>\n",
       "      <th>75%</th>\n",
       "      <td>NaN</td>\n",
       "      <td>7684.750</td>\n",
       "    </tr>\n",
       "    <tr>\n",
       "      <th>max</th>\n",
       "      <td>NaN</td>\n",
       "      <td>11413.000</td>\n",
       "    </tr>\n",
       "  </tbody>\n",
       "</table>\n",
       "</div>"
      ],
      "text/plain": [
       "           State     Sales\n",
       "count         20    20.000\n",
       "unique        20       NaN\n",
       "top     Arizona        NaN\n",
       "freq           1       NaN\n",
       "mean         NaN  4722.150\n",
       "std          NaN  3422.343\n",
       "min          NaN   608.000\n",
       "25%          NaN  1866.500\n",
       "50%          NaN  3836.000\n",
       "75%          NaN  7684.750\n",
       "max          NaN 11413.000"
      ]
     },
     "execution_count": 42,
     "metadata": {},
     "output_type": "execute_result"
    }
   ],
   "source": [
    "us_sales = us_sales[(us_sales['Sales'] > L) & (us_sales['Sales'] < U)]\n",
    "us_sales\n",
    "\n",
    "us_sales.describe(include='all')"
   ]
  },
  {
   "cell_type": "code",
   "execution_count": 43,
   "id": "02fcbedb",
   "metadata": {},
   "outputs": [
    {
     "data": {
      "text/plain": [
       "<AxesSubplot:>"
      ]
     },
     "execution_count": 43,
     "metadata": {},
     "output_type": "execute_result"
    },
    {
     "data": {
      "image/png": "[encoded data removed]",
      "text/plain": [
       "<Figure size 432x288 with 1 Axes>"
      ]
     },
     "metadata": {
      "needs_background": "light"
     },
     "output_type": "display_data"
    }
   ],
   "source": [
    "us_sales.boxplot()"
   ]
  },
  {
   "cell_type": "code",
   "execution_count": 44,
   "id": "80910098",
   "metadata": {},
   "outputs": [
    {
     "data": {
      "text/plain": [
       "(1866.5, 7684.75, 5818.25, -6860, 16412)"
      ]
     },
     "execution_count": 44,
     "metadata": {},
     "output_type": "execute_result"
    }
   ],
   "source": [
    "Q1 = us_sales['Sales'].quantile(0.25)\n",
    "Q3 = us_sales['Sales'].quantile(0.75)\n",
    "IQR = Q3 - Q1\n",
    "L = math.ceil(Q1 - 1.5 * IQR)\n",
    "U = math.floor(Q3 + 1.5 * IQR)\n",
    "Q1, Q3, IQR, L, U"
   ]
  },
  {
   "cell_type": "markdown",
   "id": "b4ace415",
   "metadata": {},
   "source": [
    "5. Out of 21 states provided what percentile states are above the Washington"
   ]
  },
  {
   "cell_type": "code",
   "execution_count": 45,
   "id": "1f95be29",
   "metadata": {},
   "outputs": [
    {
     "data": {
      "text/html": [
       "<div>\n",
       "<style scoped>\n",
       "    .dataframe tbody tr th:only-of-type {\n",
       "        vertical-align: middle;\n",
       "    }\n",
       "\n",
       "    .dataframe tbody tr th {\n",
       "        vertical-align: top;\n",
       "    }\n",
       "\n",
       "    .dataframe thead th {\n",
       "        text-align: right;\n",
       "    }\n",
       "</style>\n",
       "<table border=\"1\" class=\"dataframe\">\n",
       "  <thead>\n",
       "    <tr style=\"text-align: right;\">\n",
       "      <th></th>\n",
       "      <th>State</th>\n",
       "      <th>Sales</th>\n",
       "    </tr>\n",
       "  </thead>\n",
       "  <tbody>\n",
       "    <tr>\n",
       "      <th>0</th>\n",
       "      <td>Arizona</td>\n",
       "      <td>8408</td>\n",
       "    </tr>\n",
       "    <tr>\n",
       "      <th>1</th>\n",
       "      <td>California</td>\n",
       "      <td>1374</td>\n",
       "    </tr>\n",
       "    <tr>\n",
       "      <th>2</th>\n",
       "      <td>Colorado</td>\n",
       "      <td>1872</td>\n",
       "    </tr>\n",
       "    <tr>\n",
       "      <th>3</th>\n",
       "      <td>Florida</td>\n",
       "      <td>8879</td>\n",
       "    </tr>\n",
       "    <tr>\n",
       "      <th>4</th>\n",
       "      <td>Georgia</td>\n",
       "      <td>2459</td>\n",
       "    </tr>\n",
       "    <tr>\n",
       "      <th>5</th>\n",
       "      <td>Kansas</td>\n",
       "      <td>11413</td>\n",
       "    </tr>\n",
       "    <tr>\n",
       "      <th>6</th>\n",
       "      <td>Kentucky</td>\n",
       "      <td>608</td>\n",
       "    </tr>\n",
       "    <tr>\n",
       "      <th>8</th>\n",
       "      <td>Maryland</td>\n",
       "      <td>6452</td>\n",
       "    </tr>\n",
       "    <tr>\n",
       "      <th>9</th>\n",
       "      <td>Massachusetts</td>\n",
       "      <td>1850</td>\n",
       "    </tr>\n",
       "    <tr>\n",
       "      <th>10</th>\n",
       "      <td>Michigan</td>\n",
       "      <td>2818</td>\n",
       "    </tr>\n",
       "    <tr>\n",
       "      <th>11</th>\n",
       "      <td>Mississippi</td>\n",
       "      <td>1356</td>\n",
       "    </tr>\n",
       "    <tr>\n",
       "      <th>12</th>\n",
       "      <td>Missouri</td>\n",
       "      <td>10498</td>\n",
       "    </tr>\n",
       "    <tr>\n",
       "      <th>13</th>\n",
       "      <td>New Jersey</td>\n",
       "      <td>7478</td>\n",
       "    </tr>\n",
       "    <tr>\n",
       "      <th>14</th>\n",
       "      <td>Louisiana</td>\n",
       "      <td>4019</td>\n",
       "    </tr>\n",
       "    <tr>\n",
       "      <th>15</th>\n",
       "      <td>Oklahoma</td>\n",
       "      <td>4341</td>\n",
       "    </tr>\n",
       "    <tr>\n",
       "      <th>16</th>\n",
       "      <td>Tennessee</td>\n",
       "      <td>739</td>\n",
       "    </tr>\n",
       "    <tr>\n",
       "      <th>17</th>\n",
       "      <td>Texas</td>\n",
       "      <td>2127</td>\n",
       "    </tr>\n",
       "    <tr>\n",
       "      <th>18</th>\n",
       "      <td>Virginia</td>\n",
       "      <td>3653</td>\n",
       "    </tr>\n",
       "    <tr>\n",
       "      <th>19</th>\n",
       "      <td>Washington</td>\n",
       "      <td>5794</td>\n",
       "    </tr>\n",
       "    <tr>\n",
       "      <th>20</th>\n",
       "      <td>West Virginia</td>\n",
       "      <td>8305</td>\n",
       "    </tr>\n",
       "  </tbody>\n",
       "</table>\n",
       "</div>"
      ],
      "text/plain": [
       "             State  Sales\n",
       "0         Arizona    8408\n",
       "1      California    1374\n",
       "2        Colorado    1872\n",
       "3         Florida    8879\n",
       "4         Georgia    2459\n",
       "5          Kansas   11413\n",
       "6        Kentucky     608\n",
       "8        Maryland    6452\n",
       "9   Massachusetts    1850\n",
       "10       Michigan    2818\n",
       "11    Mississippi    1356\n",
       "12       Missouri   10498\n",
       "13     New Jersey    7478\n",
       "14      Louisiana    4019\n",
       "15       Oklahoma    4341\n",
       "16      Tennessee     739\n",
       "17          Texas    2127\n",
       "18       Virginia    3653\n",
       "19     Washington    5794\n",
       "20  West Virginia    8305"
      ]
     },
     "execution_count": 45,
     "metadata": {},
     "output_type": "execute_result"
    }
   ],
   "source": [
    "us_sales"
   ]
  },
  {
   "cell_type": "code",
   "execution_count": 46,
   "id": "fa5406be",
   "metadata": {},
   "outputs": [
    {
     "name": "stderr",
     "output_type": "stream",
     "text": [
      "C:\\Users\\hemachandrao.balu\\AppData\\Local\\Temp\\ipykernel_10220\\667641032.py:1: SettingWithCopyWarning: \n",
      "A value is trying to be set on a copy of a slice from a DataFrame.\n",
      "Try using .loc[row_indexer,col_indexer] = value instead\n",
      "\n",
      "See the caveats in the documentation: https://pandas.pydata.org/pandas-docs/stable/user_guide/indexing.html#returning-a-view-versus-a-copy\n",
      "  us_sales['Percentile'] = us_sales['Sales'].rank(method='max').apply(lambda x: 100.0*(x-1)/(len(us_sales)-1))\n"
     ]
    },
    {
     "data": {
      "text/html": [
       "<div>\n",
       "<style scoped>\n",
       "    .dataframe tbody tr th:only-of-type {\n",
       "        vertical-align: middle;\n",
       "    }\n",
       "\n",
       "    .dataframe tbody tr th {\n",
       "        vertical-align: top;\n",
       "    }\n",
       "\n",
       "    .dataframe thead th {\n",
       "        text-align: right;\n",
       "    }\n",
       "</style>\n",
       "<table border=\"1\" class=\"dataframe\">\n",
       "  <thead>\n",
       "    <tr style=\"text-align: right;\">\n",
       "      <th></th>\n",
       "      <th>State</th>\n",
       "      <th>Sales</th>\n",
       "      <th>Percentile</th>\n",
       "    </tr>\n",
       "  </thead>\n",
       "  <tbody>\n",
       "    <tr>\n",
       "      <th>5</th>\n",
       "      <td>Kansas</td>\n",
       "      <td>11413</td>\n",
       "      <td>100.000</td>\n",
       "    </tr>\n",
       "    <tr>\n",
       "      <th>12</th>\n",
       "      <td>Missouri</td>\n",
       "      <td>10498</td>\n",
       "      <td>94.737</td>\n",
       "    </tr>\n",
       "    <tr>\n",
       "      <th>3</th>\n",
       "      <td>Florida</td>\n",
       "      <td>8879</td>\n",
       "      <td>89.474</td>\n",
       "    </tr>\n",
       "    <tr>\n",
       "      <th>0</th>\n",
       "      <td>Arizona</td>\n",
       "      <td>8408</td>\n",
       "      <td>84.211</td>\n",
       "    </tr>\n",
       "    <tr>\n",
       "      <th>20</th>\n",
       "      <td>West Virginia</td>\n",
       "      <td>8305</td>\n",
       "      <td>78.947</td>\n",
       "    </tr>\n",
       "    <tr>\n",
       "      <th>13</th>\n",
       "      <td>New Jersey</td>\n",
       "      <td>7478</td>\n",
       "      <td>73.684</td>\n",
       "    </tr>\n",
       "    <tr>\n",
       "      <th>8</th>\n",
       "      <td>Maryland</td>\n",
       "      <td>6452</td>\n",
       "      <td>68.421</td>\n",
       "    </tr>\n",
       "    <tr>\n",
       "      <th>19</th>\n",
       "      <td>Washington</td>\n",
       "      <td>5794</td>\n",
       "      <td>63.158</td>\n",
       "    </tr>\n",
       "    <tr>\n",
       "      <th>15</th>\n",
       "      <td>Oklahoma</td>\n",
       "      <td>4341</td>\n",
       "      <td>57.895</td>\n",
       "    </tr>\n",
       "    <tr>\n",
       "      <th>14</th>\n",
       "      <td>Louisiana</td>\n",
       "      <td>4019</td>\n",
       "      <td>52.632</td>\n",
       "    </tr>\n",
       "    <tr>\n",
       "      <th>18</th>\n",
       "      <td>Virginia</td>\n",
       "      <td>3653</td>\n",
       "      <td>47.368</td>\n",
       "    </tr>\n",
       "    <tr>\n",
       "      <th>10</th>\n",
       "      <td>Michigan</td>\n",
       "      <td>2818</td>\n",
       "      <td>42.105</td>\n",
       "    </tr>\n",
       "    <tr>\n",
       "      <th>4</th>\n",
       "      <td>Georgia</td>\n",
       "      <td>2459</td>\n",
       "      <td>36.842</td>\n",
       "    </tr>\n",
       "    <tr>\n",
       "      <th>17</th>\n",
       "      <td>Texas</td>\n",
       "      <td>2127</td>\n",
       "      <td>31.579</td>\n",
       "    </tr>\n",
       "    <tr>\n",
       "      <th>2</th>\n",
       "      <td>Colorado</td>\n",
       "      <td>1872</td>\n",
       "      <td>26.316</td>\n",
       "    </tr>\n",
       "    <tr>\n",
       "      <th>9</th>\n",
       "      <td>Massachusetts</td>\n",
       "      <td>1850</td>\n",
       "      <td>21.053</td>\n",
       "    </tr>\n",
       "    <tr>\n",
       "      <th>1</th>\n",
       "      <td>California</td>\n",
       "      <td>1374</td>\n",
       "      <td>15.789</td>\n",
       "    </tr>\n",
       "    <tr>\n",
       "      <th>11</th>\n",
       "      <td>Mississippi</td>\n",
       "      <td>1356</td>\n",
       "      <td>10.526</td>\n",
       "    </tr>\n",
       "    <tr>\n",
       "      <th>16</th>\n",
       "      <td>Tennessee</td>\n",
       "      <td>739</td>\n",
       "      <td>5.263</td>\n",
       "    </tr>\n",
       "    <tr>\n",
       "      <th>6</th>\n",
       "      <td>Kentucky</td>\n",
       "      <td>608</td>\n",
       "      <td>0.000</td>\n",
       "    </tr>\n",
       "  </tbody>\n",
       "</table>\n",
       "</div>"
      ],
      "text/plain": [
       "             State  Sales  Percentile\n",
       "5          Kansas   11413     100.000\n",
       "12       Missouri   10498      94.737\n",
       "3         Florida    8879      89.474\n",
       "0         Arizona    8408      84.211\n",
       "20  West Virginia    8305      78.947\n",
       "13     New Jersey    7478      73.684\n",
       "8        Maryland    6452      68.421\n",
       "19     Washington    5794      63.158\n",
       "15       Oklahoma    4341      57.895\n",
       "14      Louisiana    4019      52.632\n",
       "18       Virginia    3653      47.368\n",
       "10       Michigan    2818      42.105\n",
       "4         Georgia    2459      36.842\n",
       "17          Texas    2127      31.579\n",
       "2        Colorado    1872      26.316\n",
       "9   Massachusetts    1850      21.053\n",
       "1      California    1374      15.789\n",
       "11    Mississippi    1356      10.526\n",
       "16      Tennessee     739       5.263\n",
       "6        Kentucky     608       0.000"
      ]
     },
     "execution_count": 46,
     "metadata": {},
     "output_type": "execute_result"
    }
   ],
   "source": [
    "us_sales['Percentile'] = us_sales['Sales'].rank(method='max').apply(lambda x: 100.0*(x-1)/(len(us_sales)-1))\n",
    "us_sales.sort_values(by='Percentile', ascending=False)"
   ]
  },
  {
   "cell_type": "markdown",
   "id": "88d188c1",
   "metadata": {},
   "source": [
    "6. What is the 85th percentile ?"
   ]
  },
  {
   "cell_type": "code",
   "execution_count": 47,
   "id": "49ae1fdc",
   "metadata": {},
   "outputs": [
    {
     "data": {
      "text/plain": [
       "8478.65"
      ]
     },
     "execution_count": 47,
     "metadata": {},
     "output_type": "execute_result"
    }
   ],
   "source": [
    "us_sales['Sales'].quantile(0.85)"
   ]
  },
  {
   "cell_type": "markdown",
   "id": "51f8b35b",
   "metadata": {},
   "source": [
    "4. In an IPL auction a team wants to buy a foreign player who is an all-rounder to balance their side. The team has the budget to spend on only one player and they are looking for a player who could help them in their batting department. The franchise now has the data with the runs scored by player A and player B in their last 20 matches and are confused on their selection\n",
    "\n",
    "Can you help them with your analysis? You know what needs to be don"
   ]
  },
  {
   "cell_type": "code",
   "execution_count": 48,
   "id": "70876dc3",
   "metadata": {},
   "outputs": [
    {
     "data": {
      "text/html": [
       "<div>\n",
       "<style scoped>\n",
       "    .dataframe tbody tr th:only-of-type {\n",
       "        vertical-align: middle;\n",
       "    }\n",
       "\n",
       "    .dataframe tbody tr th {\n",
       "        vertical-align: top;\n",
       "    }\n",
       "\n",
       "    .dataframe thead th {\n",
       "        text-align: right;\n",
       "    }\n",
       "</style>\n",
       "<table border=\"1\" class=\"dataframe\">\n",
       "  <thead>\n",
       "    <tr style=\"text-align: right;\">\n",
       "      <th></th>\n",
       "      <th>Player A</th>\n",
       "      <th>Player B</th>\n",
       "    </tr>\n",
       "  </thead>\n",
       "  <tbody>\n",
       "    <tr>\n",
       "      <th>0</th>\n",
       "      <td>25</td>\n",
       "      <td>0</td>\n",
       "    </tr>\n",
       "    <tr>\n",
       "      <th>1</th>\n",
       "      <td>40</td>\n",
       "      <td>25</td>\n",
       "    </tr>\n",
       "    <tr>\n",
       "      <th>2</th>\n",
       "      <td>38</td>\n",
       "      <td>22</td>\n",
       "    </tr>\n",
       "    <tr>\n",
       "      <th>3</th>\n",
       "      <td>48</td>\n",
       "      <td>38</td>\n",
       "    </tr>\n",
       "    <tr>\n",
       "      <th>4</th>\n",
       "      <td>51</td>\n",
       "      <td>25</td>\n",
       "    </tr>\n",
       "    <tr>\n",
       "      <th>5</th>\n",
       "      <td>35</td>\n",
       "      <td>45</td>\n",
       "    </tr>\n",
       "    <tr>\n",
       "      <th>6</th>\n",
       "      <td>100</td>\n",
       "      <td>51</td>\n",
       "    </tr>\n",
       "    <tr>\n",
       "      <th>7</th>\n",
       "      <td>25</td>\n",
       "      <td>60</td>\n",
       "    </tr>\n",
       "    <tr>\n",
       "      <th>8</th>\n",
       "      <td>15</td>\n",
       "      <td>62</td>\n",
       "    </tr>\n",
       "    <tr>\n",
       "      <th>9</th>\n",
       "      <td>20</td>\n",
       "      <td>93</td>\n",
       "    </tr>\n",
       "    <tr>\n",
       "      <th>10</th>\n",
       "      <td>21</td>\n",
       "      <td>68</td>\n",
       "    </tr>\n",
       "    <tr>\n",
       "      <th>11</th>\n",
       "      <td>25</td>\n",
       "      <td>63</td>\n",
       "    </tr>\n",
       "    <tr>\n",
       "      <th>12</th>\n",
       "      <td>35</td>\n",
       "      <td>42</td>\n",
       "    </tr>\n",
       "    <tr>\n",
       "      <th>13</th>\n",
       "      <td>40</td>\n",
       "      <td>9</td>\n",
       "    </tr>\n",
       "    <tr>\n",
       "      <th>14</th>\n",
       "      <td>7</td>\n",
       "      <td>3</td>\n",
       "    </tr>\n",
       "    <tr>\n",
       "      <th>15</th>\n",
       "      <td>12</td>\n",
       "      <td>5</td>\n",
       "    </tr>\n",
       "    <tr>\n",
       "      <th>16</th>\n",
       "      <td>25</td>\n",
       "      <td>20</td>\n",
       "    </tr>\n",
       "    <tr>\n",
       "      <th>17</th>\n",
       "      <td>40</td>\n",
       "      <td>14</td>\n",
       "    </tr>\n",
       "    <tr>\n",
       "      <th>18</th>\n",
       "      <td>42</td>\n",
       "      <td>18</td>\n",
       "    </tr>\n",
       "    <tr>\n",
       "      <th>19</th>\n",
       "      <td>56</td>\n",
       "      <td>37</td>\n",
       "    </tr>\n",
       "  </tbody>\n",
       "</table>\n",
       "</div>"
      ],
      "text/plain": [
       "    Player A  Player B\n",
       "0         25         0\n",
       "1         40        25\n",
       "2         38        22\n",
       "3         48        38\n",
       "4         51        25\n",
       "5         35        45\n",
       "6        100        51\n",
       "7         25        60\n",
       "8         15        62\n",
       "9         20        93\n",
       "10        21        68\n",
       "11        25        63\n",
       "12        35        42\n",
       "13        40         9\n",
       "14         7         3\n",
       "15        12         5\n",
       "16        25        20\n",
       "17        40        14\n",
       "18        42        18\n",
       "19        56        37"
      ]
     },
     "execution_count": 48,
     "metadata": {},
     "output_type": "execute_result"
    }
   ],
   "source": [
    "player_df = pd.read_excel(\"Descrip_Stats_problem_data_v1.xlsx\", sheet_name='Problem4')\n",
    "player_df"
   ]
  },
  {
   "cell_type": "code",
   "execution_count": 49,
   "id": "02dc9f54",
   "metadata": {},
   "outputs": [],
   "source": [
    "def coeff_variation(x):\n",
    "    return x.std() / x.mean() * 100"
   ]
  },
  {
   "cell_type": "code",
   "execution_count": 50,
   "id": "1bfd03a3",
   "metadata": {},
   "outputs": [
    {
     "name": "stdout",
     "output_type": "stream",
     "text": [
      "57.73378662579239\n",
      "72.27468785704656\n",
      "Player A\n"
     ]
    }
   ],
   "source": [
    "print(coeff_variation(player_df['Player A']))\n",
    "print(coeff_variation(player_df['Player B']))\n",
    "if coeff_variation(player_df['Player A']) > coeff_variation(player_df['Player B']):\n",
    "    print(\"Player B\")\n",
    "else:\n",
    "    print(\"Player A\")"
   ]
  },
  {
   "cell_type": "code",
   "execution_count": 51,
   "id": "c63a799b",
   "metadata": {},
   "outputs": [
    {
     "data": {
      "text/html": [
       "<div>\n",
       "<style scoped>\n",
       "    .dataframe tbody tr th:only-of-type {\n",
       "        vertical-align: middle;\n",
       "    }\n",
       "\n",
       "    .dataframe tbody tr th {\n",
       "        vertical-align: top;\n",
       "    }\n",
       "\n",
       "    .dataframe thead th {\n",
       "        text-align: right;\n",
       "    }\n",
       "</style>\n",
       "<table border=\"1\" class=\"dataframe\">\n",
       "  <thead>\n",
       "    <tr style=\"text-align: right;\">\n",
       "      <th></th>\n",
       "      <th>MeanA</th>\n",
       "      <th>MeanB</th>\n",
       "    </tr>\n",
       "  </thead>\n",
       "  <tbody>\n",
       "    <tr>\n",
       "      <th>0</th>\n",
       "      <td>35.571</td>\n",
       "      <td>34.143</td>\n",
       "    </tr>\n",
       "    <tr>\n",
       "      <th>1</th>\n",
       "      <td>31.286</td>\n",
       "      <td>43.857</td>\n",
       "    </tr>\n",
       "    <tr>\n",
       "      <th>2</th>\n",
       "      <td>29.857</td>\n",
       "      <td>30.429</td>\n",
       "    </tr>\n",
       "    <tr>\n",
       "      <th>3</th>\n",
       "      <td>41.429</td>\n",
       "      <td>44.143</td>\n",
       "    </tr>\n",
       "    <tr>\n",
       "      <th>4</th>\n",
       "      <td>32.714</td>\n",
       "      <td>39.714</td>\n",
       "    </tr>\n",
       "    <tr>\n",
       "      <th>5</th>\n",
       "      <td>29.286</td>\n",
       "      <td>27.571</td>\n",
       "    </tr>\n",
       "    <tr>\n",
       "      <th>6</th>\n",
       "      <td>31.286</td>\n",
       "      <td>26.286</td>\n",
       "    </tr>\n",
       "    <tr>\n",
       "      <th>7</th>\n",
       "      <td>29.429</td>\n",
       "      <td>43.429</td>\n",
       "    </tr>\n",
       "    <tr>\n",
       "      <th>8</th>\n",
       "      <td>43.143</td>\n",
       "      <td>34.143</td>\n",
       "    </tr>\n",
       "    <tr>\n",
       "      <th>9</th>\n",
       "      <td>40.714</td>\n",
       "      <td>33.857</td>\n",
       "    </tr>\n",
       "  </tbody>\n",
       "</table>\n",
       "</div>"
      ],
      "text/plain": [
       "   MeanA  MeanB\n",
       "0 35.571 34.143\n",
       "1 31.286 43.857\n",
       "2 29.857 30.429\n",
       "3 41.429 44.143\n",
       "4 32.714 39.714\n",
       "5 29.286 27.571\n",
       "6 31.286 26.286\n",
       "7 29.429 43.429\n",
       "8 43.143 34.143\n",
       "9 40.714 33.857"
      ]
     },
     "execution_count": 51,
     "metadata": {},
     "output_type": "execute_result"
    }
   ],
   "source": [
    "samples_analysis = []\n",
    "for _ in range(10):\n",
    "    sample={}\n",
    "    sample_df = player_df.sample(n=7)\n",
    "    sample['MeanA']=sample_df['Player A'].mean()\n",
    "    sample['MeanB']=sample_df['Player B'].mean()\n",
    "#     print(sample)\n",
    "    samples_analysis.append(sample)\n",
    "samples_analysis_df = pd.DataFrame(samples_analysis)\n",
    "samples_analysis_df"
   ]
  },
  {
   "cell_type": "code",
   "execution_count": 52,
   "id": "be266f18",
   "metadata": {},
   "outputs": [
    {
     "name": "stdout",
     "output_type": "stream",
     "text": [
      "Population Mean\n",
      "Player A :  35.0\n",
      "Player B :  35.0\n",
      "Sample Mean\n",
      "Player A :  34.471428571428575\n",
      "Player B :  35.75714285714286\n",
      "\n",
      "Population Std\n",
      "Player A :  20.206825319027338\n",
      "Player B :  25.296140749966295\n",
      "Sample Std\n",
      "Player A :  5.382869443587874\n",
      "Player B :  6.702979335548418\n"
     ]
    }
   ],
   "source": [
    "print(\"Population Mean\")\n",
    "print(\"Player A : \", player_df['Player A'].mean())\n",
    "print(\"Player B : \", player_df['Player B'].mean())\n",
    "print(\"Sample Mean\")\n",
    "print(\"Player A : \", samples_analysis_df['MeanA'].mean())\n",
    "print(\"Player B : \", samples_analysis_df['MeanB'].mean())\n",
    "print(\"\\nPopulation Std\")\n",
    "print(\"Player A : \", player_df['Player A'].std())\n",
    "print(\"Player B : \", player_df['Player B'].std())\n",
    "print(\"Sample Std\")\n",
    "print(\"Player A : \", samples_analysis_df['MeanA'].std())\n",
    "print(\"Player B : \", samples_analysis_df['MeanB'].std())"
   ]
  },
  {
   "cell_type": "code",
   "execution_count": 53,
   "id": "b5e7f922",
   "metadata": {},
   "outputs": [
    {
     "data": {
      "text/plain": [
       "32.77777777777778"
      ]
     },
     "execution_count": 53,
     "metadata": {},
     "output_type": "execute_result"
    }
   ],
   "source": [
    "a=[15,5,20,45,85,65,30,10,20]\n",
    "sum(a)/len(a)"
   ]
  },
  {
   "cell_type": "code",
   "execution_count": null,
   "id": "e96ee5bb",
   "metadata": {},
   "outputs": [],
   "source": []
  }
 ],
 "metadata": {
  "kernelspec": {
   "display_name": "Python 3 (ipykernel)",
   "language": "python",
   "name": "python3"
  },
  "language_info": {
   "codemirror_mode": {
    "name": "ipython",
    "version": 3
   },
   "file_extension": ".py",
   "mimetype": "text/x-python",
   "name": "python",
   "nbconvert_exporter": "python",
   "pygments_lexer": "ipython3",
   "version": "3.9.12"
  }
 },
 "nbformat": 4,
 "nbformat_minor": 5
}
