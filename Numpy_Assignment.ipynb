{
 "cells": [
  {
   "cell_type": "code",
   "execution_count": 5,
   "id": "45f971f5",
   "metadata": {},
   "outputs": [],
   "source": [
    "# 1. Import the numpy package under the name np (★☆☆)\n",
    "import numpy as np"
   ]
  },
  {
   "cell_type": "code",
   "execution_count": 6,
   "id": "7f4c5cd5",
   "metadata": {},
   "outputs": [
    {
     "name": "stdout",
     "output_type": "stream",
     "text": [
      "1.21.5\n"
     ]
    }
   ],
   "source": [
    "# 2. Print the numpy version\n",
    "print(np.version.version)"
   ]
  },
  {
   "cell_type": "code",
   "execution_count": 7,
   "id": "c53eecf3",
   "metadata": {},
   "outputs": [
    {
     "data": {
      "text/plain": [
       "array([0., 0., 0., 0., 0., 0., 0., 0., 0., 0.])"
      ]
     },
     "execution_count": 7,
     "metadata": {},
     "output_type": "execute_result"
    }
   ],
   "source": [
    "# 3. Create a null vector of size 10 (★☆☆)\n",
    "np_array=np.zeros(10)\n",
    "np_array"
   ]
  },
  {
   "cell_type": "code",
   "execution_count": 9,
   "id": "f0597b9f",
   "metadata": {},
   "outputs": [
    {
     "data": {
      "text/plain": [
       "array([0., 0., 0., 0., 0., 0., 0., 0., 0., 0.])"
      ]
     },
     "execution_count": 9,
     "metadata": {},
     "output_type": "execute_result"
    }
   ],
   "source": [
    "# 4. Given a numpy array whose underlying data is of 'int32' type. Change the dtype of the given object to 'float64'\n",
    "np_array.astype('float64')"
   ]
  },
  {
   "cell_type": "code",
   "execution_count": 10,
   "id": "9e86a025",
   "metadata": {},
   "outputs": [
    {
     "data": {
      "text/plain": [
       "array([0., 0., 0., 0., 1., 0., 0., 0., 0., 0.])"
      ]
     },
     "execution_count": 10,
     "metadata": {},
     "output_type": "execute_result"
    }
   ],
   "source": [
    "#Create a null vector of size 10 but the fifth value which is 1 (★☆☆)\n",
    "np_arr=np.zeros(10)\n",
    "np_arr[4]=1\n",
    "np_arr\n"
   ]
  },
  {
   "cell_type": "code",
   "execution_count": 11,
   "id": "44d689a9",
   "metadata": {},
   "outputs": [
    {
     "name": "stdout",
     "output_type": "stream",
     "text": [
      "[1 2 3]\n"
     ]
    }
   ],
   "source": [
    "# # 4. Numpy where Problem\n",
    "# Say we have a numpy array A\n",
    "# \n",
    "# [[1 2 3] [4 5 6]]\n",
    "# \n",
    "# Create a new matrix with Indices of elements <4\n",
    "# \n",
    "# Output Elements which are <4 array([1, 2, 3])  ***\n",
    "np_ar=np.array([[1,2,3],[4,5,6]])\n",
    "print(np_ar[(np_ar<4)])"
   ]
  },
  {
   "cell_type": "code",
   "execution_count": 12,
   "id": "257cc4f8",
   "metadata": {},
   "outputs": [
    {
     "name": "stdout",
     "output_type": "stream",
     "text": [
      "[10 11 12 13 14 15 16 17 18 19 20 21 22 23 24 25 26 27 28 29 30 31 32 33\n",
      " 34 35 36 37 38 39 40 41 42 43 44 45 46 47 48 49]\n"
     ]
    }
   ],
   "source": [
    "# 5. Create a vector with values ranging from 10 to 49 (★☆☆)\n",
    "\n",
    "array_1 = np.arange(10, 50)\n",
    "print(array_1)"
   ]
  },
  {
   "cell_type": "code",
   "execution_count": 13,
   "id": "277bce2c",
   "metadata": {},
   "outputs": [
    {
     "data": {
      "text/plain": [
       "array([49, 48, 47, 46, 45, 44, 43, 42, 41, 40, 39, 38, 37, 36, 35, 34, 33,\n",
       "       32, 31, 30, 29, 28, 27, 26, 25, 24, 23, 22, 21, 20, 19, 18, 17, 16,\n",
       "       15, 14, 13, 12, 11, 10])"
      ]
     },
     "execution_count": 13,
     "metadata": {},
     "output_type": "execute_result"
    }
   ],
   "source": [
    "# 6. Reverse a vector (first element becomes last) (★☆☆)\n",
    "rev_array_1 = array_1[::-1]\n",
    "rev_array_1"
   ]
  },
  {
   "cell_type": "code",
   "execution_count": 14,
   "id": "7b06b934",
   "metadata": {},
   "outputs": [
    {
     "data": {
      "text/plain": [
       "array([[0, 1, 2],\n",
       "       [3, 4, 5],\n",
       "       [6, 7, 8]])"
      ]
     },
     "execution_count": 14,
     "metadata": {},
     "output_type": "execute_result"
    }
   ],
   "source": [
    "# 7. Create a 3x3 matrix with values ranging from 0 to 8 (★☆☆)\n",
    "array_2=np.arange(0,9)\n",
    "array_2=array_2.reshape(3,3)\n",
    "array_2"
   ]
  },
  {
   "cell_type": "code",
   "execution_count": 15,
   "id": "678cc551",
   "metadata": {},
   "outputs": [
    {
     "name": "stdout",
     "output_type": "stream",
     "text": [
      "(array([0, 1, 4], dtype=int64),)\n"
     ]
    }
   ],
   "source": [
    "\n",
    "# 8. Find indices of non-zero elements from [1,2,0,0,4,0] (★☆☆)\n",
    "array_3=np.array([1,2,0,0,4,0])\n",
    "print(np.nonzero(array_3))"
   ]
  },
  {
   "cell_type": "code",
   "execution_count": 16,
   "id": "d9b05544",
   "metadata": {},
   "outputs": [
    {
     "name": "stdout",
     "output_type": "stream",
     "text": [
      "[0 1 4]\n"
     ]
    }
   ],
   "source": [
    "array_4=np.array([1,2,0,0,4,0])\n",
    "array_4= np.where(array_4 != 0)[0]\n",
    "print(array_4)"
   ]
  },
  {
   "cell_type": "code",
   "execution_count": 17,
   "id": "850d3c3e",
   "metadata": {},
   "outputs": [
    {
     "name": "stdout",
     "output_type": "stream",
     "text": [
      "[[1 0 0]\n",
      " [0 1 0]\n",
      " [0 0 1]]\n"
     ]
    }
   ],
   "source": [
    "\n",
    "# 9. Create a 3x3 identity matrix (★☆☆)\n",
    "\n",
    "\n",
    "identity_array = np.identity(3, dtype=int)\n",
    "print(identity_array)"
   ]
  },
  {
   "cell_type": "code",
   "execution_count": 25,
   "id": "296dbf07",
   "metadata": {},
   "outputs": [
    {
     "name": "stdout",
     "output_type": "stream",
     "text": [
      "[[[29 22 45]\n",
      "  [38 11 46]\n",
      "  [23  3 33]]\n",
      "\n",
      " [[ 1 25 31]\n",
      "  [48 39 29]\n",
      "  [46  1 24]]\n",
      "\n",
      " [[ 3 19 35]\n",
      "  [35 12 20]\n",
      "  [ 7  4  3]]]\n"
     ]
    }
   ],
   "source": [
    "# Create a 3x3x3 array with random values (★☆☆)\n",
    "import random\n",
    "dim_3 = np.random.randint(1,50,(3,3,3))\n",
    "print(dim_3)"
   ]
  },
  {
   "cell_type": "code",
   "execution_count": 26,
   "id": "3be227ef",
   "metadata": {},
   "outputs": [
    {
     "name": "stdout",
     "output_type": "stream",
     "text": [
      "[[24  5  5 48 22 29 38 15 18  2]\n",
      " [13  5 34 48 34 37 11 29  5 29]\n",
      " [42 17 37 30 29 43  9  8 41 36]\n",
      " [36 48  6 31 42 41  8  9 15  2]\n",
      " [ 7 32 12 18 10 30 31 47 39 26]\n",
      " [ 8 38  7 49 30 28 14 21 12 16]\n",
      " [10  2 14 40 19 48 40 49 38 19]\n",
      " [38 41 26 25 10 29 32 23 43  4]\n",
      " [41 10 28 33 30  7 41 16 26 39]\n",
      " [39 10 42  8 47  1  2  2 37 17]]\n",
      "\n",
      "Minimum Values\n",
      "Columnwise(Axis=0):  [ 7  2  5  8 10  1  2  2  5  2]\n",
      "Row-wise(Axis=1):  [2 5 8 2 7 7 2 4 7 1]\n",
      "Among Total-values(Axis=None):  1\n",
      "\n",
      "Maximum Values\n",
      "Columnwise(Axis=0):  [42 48 42 49 47 48 41 49 43 39]\n",
      "Row-wise(Axis=1):  [48 48 43 48 47 49 49 43 41 47]\n",
      "Among Total-values(Axis=None):  49\n"
     ]
    }
   ],
   "source": [
    "# 13. Create a 10x10 array with random values and find the minimum and maximum values (★☆☆)\n",
    "dim_10_10= np.random.randint(1,50,(10,10))\n",
    "print(dim_10_10)\n",
    "print(\"\\nMinimum Values\\nColumnwise(Axis=0): \",np.min(dim_10_10, axis=0))\n",
    "print(\"Row-wise(Axis=1): \",np.min(dim_10_10, axis=1))\n",
    "print(\"Among Total-values(Axis=None): \",np.min(dim_10_10, axis=None))\n",
    "print(\"\\nMaximum Values\\nColumnwise(Axis=0): \",np.max(dim_10_10, axis=0))\n",
    "print(\"Row-wise(Axis=1): \",np.max(dim_10_10, axis=1))\n",
    "print(\"Among Total-values(Axis=None): \",np.max(dim_10_10, axis=None))"
   ]
  },
  {
   "cell_type": "code",
   "execution_count": 27,
   "id": "ca81b4cf",
   "metadata": {},
   "outputs": [
    {
     "name": "stdout",
     "output_type": "stream",
     "text": [
      "[36 35 37  6 16 27 24 44 27 21 26  3  2 43  5 23 14 30 34 22 28 24  1 27\n",
      " 36  3 22 19 44 15]\n",
      "Mean:  23.133333333333333\n"
     ]
    }
   ],
   "source": [
    "# 14. Create a random vector of size 30 and find the mean value (★☆☆)\n",
    "dim_30= np.random.randint(1,50,(30))\n",
    "print(dim_30)\n",
    "print(\"Mean: \",np.mean(dim_30, axis=None))"
   ]
  },
  {
   "cell_type": "code",
   "execution_count": 29,
   "id": "c8ade3a6",
   "metadata": {},
   "outputs": [
    {
     "name": "stdout",
     "output_type": "stream",
     "text": [
      "USING pad()\n",
      "[[1 1 1 1 1 1]\n",
      " [1 0 0 0 0 1]\n",
      " [1 0 0 0 0 1]\n",
      " [1 0 0 0 0 1]\n",
      " [1 0 0 0 0 1]\n",
      " [1 0 0 0 0 1]\n",
      " [1 1 1 1 1 1]]\n"
     ]
    }
   ],
   "source": [
    "# 15. Create a 2d array with 1 on the border and 0 inside (★☆☆)\n",
    "n = 5\n",
    "m = 4\n",
    "print(\"USING pad()\")\n",
    "zero_arr = np.zeros((n, m), int)\n",
    "bordered_2d = np.pad(zero_arr, pad_width=1, mode='constant', constant_values=1)\n",
    "print(bordered_2d)"
   ]
  },
  {
   "cell_type": "code",
   "execution_count": 30,
   "id": "2d1df218",
   "metadata": {},
   "outputs": [
    {
     "name": "stdout",
     "output_type": "stream",
     "text": [
      "[[0 0 0 0]\n",
      " [0 1 2 0]\n",
      " [0 3 4 0]\n",
      " [0 0 0 0]]\n"
     ]
    }
   ],
   "source": [
    "# 16. How to add a border (filled with 0's) around an existing array? (★☆☆)\n",
    "np_array = [[1, 2],[3, 4]] \n",
    "bordered = np.pad(np_array, pad_width=1, mode='constant', constant_values=0)\n",
    "print(bordered)"
   ]
  },
  {
   "cell_type": "code",
   "execution_count": 31,
   "id": "af83f25f",
   "metadata": {},
   "outputs": [
    {
     "data": {
      "text/plain": [
       "False"
      ]
     },
     "execution_count": 31,
     "metadata": {},
     "output_type": "execute_result"
    }
   ],
   "source": [
    "# 17. What is the result of the following expression? (★☆☆)\n",
    "0 * np.nan\n",
    "np.nan == np.nan\n",
    "np.inf > np.nan\n",
    "np.nan - np.nan\n",
    "np.nan in set([np.nan])\n",
    "0.3 == 3 * 0.1"
   ]
  },
  {
   "cell_type": "code",
   "execution_count": 32,
   "id": "de8a55e0",
   "metadata": {},
   "outputs": [
    {
     "name": "stdout",
     "output_type": "stream",
     "text": [
      "0 * np.nan :  nan\n",
      "np.nan == np.nan :  False\n",
      "np.inf > np.nan :  False\n",
      "np.nan - np.nan : nan\n",
      "np.nan in set([np.nan]) : True\n",
      "0.3 == 3 * 0.1 : False\n"
     ]
    }
   ],
   "source": [
    "print(\"0 * np.nan : \",0 * np.nan)\n",
    "print(\"np.nan == np.nan : \",np.nan == np.nan) \n",
    "print(\"np.inf > np.nan : \",np.inf > np.nan)\n",
    "print(\"np.nan - np.nan :\", np.nan - np.nan)\n",
    "print(\"np.nan in set([np.nan]) :\", np.nan in set([np.nan]))\n",
    "print(\"0.3 == 3 * 0.1 :\", 0.3 == 3 * 0.1) # [3*0.1=0.30000000000000004]"
   ]
  },
  {
   "cell_type": "code",
   "execution_count": 33,
   "id": "3f381e3f",
   "metadata": {},
   "outputs": [
    {
     "data": {
      "text/plain": [
       "array([[0, 0, 0, 0, 0],\n",
       "       [0, 0, 0, 0, 0],\n",
       "       [0, 1, 0, 0, 0],\n",
       "       [0, 0, 2, 0, 0],\n",
       "       [0, 0, 0, 3, 0]])"
      ]
     },
     "execution_count": 33,
     "metadata": {},
     "output_type": "execute_result"
    }
   ],
   "source": [
    "# 18. Create a 4x4 matrix with values 0,1,2,3 just below the diagonal (★☆☆)\n",
    "np.diag(np.arange(4), k=-1)"
   ]
  },
  {
   "cell_type": "code",
   "execution_count": 35,
   "id": "db737487",
   "metadata": {},
   "outputs": [
    {
     "name": "stdout",
     "output_type": "stream",
     "text": [
      "[0 0 0 0 1 0 0 0 0 0]\n"
     ]
    }
   ],
   "source": [
    "# 19. Create a null vector of size 10 but the fifth value which is 1 (★☆☆)\n",
    "null_vector = np.zeros((10),dtype=int)\n",
    "null_vector[4] = 1\n",
    "print(null_vector)"
   ]
  },
  {
   "cell_type": "code",
   "execution_count": 36,
   "id": "4fab44ac",
   "metadata": {},
   "outputs": [
    {
     "name": "stdout",
     "output_type": "stream",
     "text": [
      "[[16 17 39 36 19]\n",
      " [ 8 43 27 28  2]\n",
      " [12  6 15 24 29]\n",
      " [ 5 39 47 38 46]\n",
      " [ 7 27 25  3 21]]\n",
      "[[-0.52035323 -0.4476782   1.15117252  0.93314742 -0.30232814]\n",
      " [-1.1017535   1.44187265  0.27907213  0.35174716 -1.53780369]\n",
      " [-0.81105337 -1.24710356 -0.59302827  0.06104703  0.42442219]\n",
      " [-1.31977859  1.15117252  1.73257278  1.07849749  1.65989775]\n",
      " [-1.17442853  0.27907213  0.13372206 -1.46512866 -0.15697807]]\n"
     ]
    }
   ],
   "source": [
    "# 22. Normalize a 5x5 random matrix (★☆☆) \n",
    "#Say X is 5*5 numpy array Normalize i.e X - mean(X) / Standard Deviation of X link text\n",
    "\n",
    "import numpy as np\n",
    "a_55 = np.random.randint(1,50,(5,5))\n",
    "a_55_norm = (a_55 - np.mean(a_55)) / np.std(a_55)\n",
    "print(a_55)\n",
    "print(a_55_norm)"
   ]
  },
  {
   "cell_type": "markdown",
   "id": "ac57e399",
   "metadata": {},
   "source": [
    "23. Numpy where Problem\n",
    "Say we have a numpy array A\n",
    "\n",
    "[[1 2 3] [4 5 6]]\n",
    "\n",
    "Create a new matrix with Indices of elements <4\n",
    "\n",
    "Output Elements which are <4 array([1, 2, 3])"
   ]
  },
  {
   "cell_type": "code",
   "execution_count": 37,
   "id": "c6abb1e4",
   "metadata": {},
   "outputs": [
    {
     "name": "stdout",
     "output_type": "stream",
     "text": [
      "[1 2 3]\n"
     ]
    }
   ],
   "source": [
    "array_6 = np.array([[1,2,3],[4,5,6]])\n",
    "print(array_6[array_6<4])"
   ]
  },
  {
   "cell_type": "code",
   "execution_count": 39,
   "id": "4bbbb13b",
   "metadata": {},
   "outputs": [
    {
     "name": "stdout",
     "output_type": "stream",
     "text": [
      "[[ 2 16 11]\n",
      " [18  8  7]\n",
      " [16  9 17]\n",
      " [ 2  2 18]\n",
      " [12 12  7]]\n",
      "[[12 13]\n",
      " [ 7 19]\n",
      " [ 2 13]]\n",
      "[[158 473]\n",
      " [286 477]\n",
      " [289 600]\n",
      " [ 74 298]\n",
      " [242 475]]\n"
     ]
    }
   ],
   "source": [
    "# 24. Do a dot product of 5x3 matrix by a 3x2 matrix (real matrix product) (★☆☆)\n",
    "array_53 = np.random.randint(1,20,(5,3))\n",
    "array_32 = np.random.randint(1,20,(3,2))\n",
    "print(array_53)\n",
    "print(array_32)\n",
    "print(np.dot(array_53, array_32))"
   ]
  },
  {
   "cell_type": "code",
   "execution_count": 40,
   "id": "ef226264",
   "metadata": {},
   "outputs": [
    {
     "name": "stdout",
     "output_type": "stream",
     "text": [
      "[[3 4 1]\n",
      " [2 1 1]\n",
      " [1 3 2]]\n",
      "[[4 3 3]\n",
      " [3 1 2]\n",
      " [4 1 1]]\n",
      "False\n",
      "[[False False False]\n",
      " [False  True False]\n",
      " [False False False]]\n",
      "False\n",
      "False\n",
      "False\n"
     ]
    },
    {
     "name": "stderr",
     "output_type": "stream",
     "text": [
      "C:\\Users\\hemachandrao.balu\\Anaconda3\\lib\\site-packages\\numpy\\core\\numeric.py:2440: VisibleDeprecationWarning: Creating an ndarray from ragged nested sequences (which is a list-or-tuple of lists-or-tuples-or ndarrays with different lengths or shapes) is deprecated. If you meant to do this, you must specify 'dtype=object' when creating the ndarray.\n",
      "  a1, a2 = asarray(a1), asarray(a2)\n"
     ]
    }
   ],
   "source": [
    "# 25. Consider two random array A and B, check if they are equal (★★☆)\n",
    "A = np.random.randint(1,5,(3,3))\n",
    "B = np.random.randint(1,5,(3,3))\n",
    "print(A)\n",
    "print(B)\n",
    "print(np.array_equal(A, B))\n",
    "print(A == B) \n",
    "print(np.allclose(A, B))\n",
    "A1 = [[1,2,3],[4,5],[6,7,8],[9]]\n",
    "B1 = [[1,2,3],[4,5],[6,7,8],[10]]\n",
    "print(np.array_equal(A1, B1))\n",
    "print(A1 == B1)"
   ]
  },
  {
   "cell_type": "code",
   "execution_count": 43,
   "id": "07e59c5c",
   "metadata": {},
   "outputs": [
    {
     "name": "stdout",
     "output_type": "stream",
     "text": [
      "[4 2 3 8 8 6 2 8 3 6]\n",
      "8\n",
      "[4 2 3 0 0 6 2 0 3 6]\n"
     ]
    }
   ],
   "source": [
    "# 26. Create random vector of size 10 and replace the maximum value by 0 (★★☆)\n",
    "A1 = np.random.randint(1,10,(10))\n",
    "temp = A1\n",
    "print(A1)\n",
    "max_value = np.max(A1)\n",
    "print(max_value)\n",
    "A1[A1 == max_value] = 0\n",
    "print(A1)\n"
   ]
  },
  {
   "cell_type": "code",
   "execution_count": 49,
   "id": "fb029198",
   "metadata": {
    "scrolled": true
   },
   "outputs": [
    {
     "name": "stdout",
     "output_type": "stream",
     "text": [
      "[[ 2 16 11]\n",
      " [18  8  7]\n",
      " [16  9 17]\n",
      " [ 2  2 18]\n",
      " [12 12  7]]\n",
      "[10.   9.4 12. ]\n"
     ]
    }
   ],
   "source": [
    "# 27. Subtract the mean of each row of a matrix (★★☆):\n",
    "print(array_53)\n",
    "Array53_mean=np.mean(array_53, axis=0)\n",
    "print(Array53_mean)"
   ]
  },
  {
   "cell_type": "code",
   "execution_count": null,
   "id": "57c13ca9",
   "metadata": {},
   "outputs": [],
   "source": []
  }
 ],
 "metadata": {
  "kernelspec": {
   "display_name": "Python 3 (ipykernel)",
   "language": "python",
   "name": "python3"
  },
  "language_info": {
   "codemirror_mode": {
    "name": "ipython",
    "version": 3
   },
   "file_extension": ".py",
   "mimetype": "text/x-python",
   "name": "python",
   "nbconvert_exporter": "python",
   "pygments_lexer": "ipython3",
   "version": "3.9.12"
  }
 },
 "nbformat": 4,
 "nbformat_minor": 5
}
