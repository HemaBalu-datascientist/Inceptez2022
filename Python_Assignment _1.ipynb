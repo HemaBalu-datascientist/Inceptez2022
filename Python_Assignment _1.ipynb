{
 "cells": [
  {
   "cell_type": "code",
   "execution_count": 1,
   "id": "13b444f5",
   "metadata": {},
   "outputs": [],
   "source": [
    "# 1 .Get the input for 2 variables though “input” function and pass them to a function to return the addition of two variable"
   ]
  },
  {
   "cell_type": "code",
   "execution_count": 1,
   "id": "3570d0a1",
   "metadata": {},
   "outputs": [
    {
     "name": "stdout",
     "output_type": "stream",
     "text": [
      "2 5\n",
      "7\n"
     ]
    }
   ],
   "source": [
    "def addition(a,b):\n",
    "    return a+b\n",
    "a, b = list(map(int, input().split()))\n",
    "print(addition(a,b))\n",
    "       \n"
   ]
  },
  {
   "cell_type": "code",
   "execution_count": 5,
   "id": "dea695f4",
   "metadata": {},
   "outputs": [],
   "source": [
    "# 2. What happens if we try to add an int with str and vice versa. Please print out the error\n"
   ]
  },
  {
   "cell_type": "code",
   "execution_count": 7,
   "id": "cc521472",
   "metadata": {},
   "outputs": [
    {
     "name": "stdout",
     "output_type": "stream",
     "text": [
      "4 6 7 8 8 4\n",
      "True\n"
     ]
    }
   ],
   "source": [
    "# 3. Write a function and pass a number list as an argument to the function. And return True if the first and last number of a given list is same. \n",
    "#If numbers are different then return False\n",
    "def check_equality(num_list):\n",
    "    if num_list[0] == num_list[-1]:\n",
    "        return True\n",
    "    else:\n",
    "        return False\n",
    "num_list = list(map(int, input().split()))\n",
    "print(check_equality(num_list))"
   ]
  },
  {
   "cell_type": "code",
   "execution_count": 8,
   "id": "235f540d",
   "metadata": {},
   "outputs": [
    {
     "name": "stdout",
     "output_type": "stream",
     "text": [
      "10\n",
      "20\n",
      "55\n"
     ]
    },
    {
     "data": {
      "text/plain": [
       "[None, None, None]"
      ]
     },
     "execution_count": 8,
     "metadata": {},
     "output_type": "execute_result"
    }
   ],
   "source": [
    "# 4. Iterate the given list of numbers (l1) and print only those numbers which are divisible by 5. (l1 = [10, 20, 33, 46, 55])\n",
    "l1 = [10, 20, 33, 46, 55]\n",
    "[print(num) for num in l1 if num%5 == 0]"
   ]
  },
  {
   "cell_type": "code",
   "execution_count": 10,
   "id": "b69f04db",
   "metadata": {},
   "outputs": [
    {
     "name": "stdout",
     "output_type": "stream",
     "text": [
      "6 -12\n",
      "(-6, 18)\n"
     ]
    }
   ],
   "source": [
    "# 5. Write a program to create function calculation() such that it can accept two variables and calculate addition and subtraction. Also, it must return both addition and subtraction in a single return call.\n",
    "\n",
    "# a. Hint: Separate return values with a comma\n",
    "def calculation(a,b):\n",
    "    return a+b, a-b\n",
    "a, b = list(map(int, input().split()))\n",
    "print(calculation(a,b))"
   ]
  },
  {
   "cell_type": "code",
   "execution_count": 11,
   "id": "91a0d2aa",
   "metadata": {},
   "outputs": [
    {
     "ename": "SyntaxError",
     "evalue": "non-default argument follows default argument (2210676793.py, line 4)",
     "output_type": "error",
     "traceback": [
      "\u001b[1;36m  Input \u001b[1;32mIn [11]\u001b[1;36m\u001b[0m\n\u001b[1;33m    def syntax_error_demo(non_default_arg=\"value 1\", default_arg):\u001b[0m\n\u001b[1;37m                                                                ^\u001b[0m\n\u001b[1;31mSyntaxError\u001b[0m\u001b[1;31m:\u001b[0m non-default argument follows default argument\n"
     ]
    }
   ],
   "source": [
    "# Write a program to demonstrate the following Syntax error\n",
    "\n",
    "#a. SyntaxError: non-default argument follows default argument\n",
    "def syntax_error_demo(non_default_arg=\"value 1\", default_arg):\n",
    "    print(\"Right way to use is => def syntax_error_demo(default_arg, non_default_arg=1):\")"
   ]
  },
  {
   "cell_type": "code",
   "execution_count": 13,
   "id": "dd2556c2",
   "metadata": {},
   "outputs": [
    {
     "name": "stdout",
     "output_type": "stream",
     "text": [
      "[11, 53, 21, 77, 87]\n",
      "121\n",
      "2809\n",
      "441\n",
      "5929\n",
      "7569\n"
     ]
    },
    {
     "data": {
      "text/plain": [
       "[None, None, None, None, None]"
      ]
     },
     "execution_count": 13,
     "metadata": {},
     "output_type": "execute_result"
    }
   ],
   "source": [
    "# 7. Use filter and lambda function to calculate square for below numbers only if they are odd number\n",
    "\n",
    "# a. [12, 11, 53, 22, 21, 77, 87, 88, 98]\n",
    "\n",
    "l2 = [12, 11, 53, 22, 21, 77, 87, 88, 98]\n",
    "odd_list = list(filter(lambda x: (x%2 != 0), l2))\n",
    "print(odd_list)\n",
    "[print(odd_num**2) for odd_num in odd_list]"
   ]
  },
  {
   "cell_type": "code",
   "execution_count": 14,
   "id": "f769b915",
   "metadata": {},
   "outputs": [
    {
     "name": "stdout",
     "output_type": "stream",
     "text": [
      "['string1 -> concatenation using map function', 'string2 -> concatenation using map function', 'string3 -> concatenation using map function']\n"
     ]
    }
   ],
   "source": [
    "# 8.Write a function (not a lambda function) and use it to demonstrate an example for map function\n",
    "#(any logical function of your choice)\n",
    "\n",
    "def concatenation(str):\n",
    "    return str+\" -> concatenation using map function\"\n",
    "string_list = [\"string1\", \"string2\", \"string3\"]\n",
    "print(list(map(concatenation, string_list)))\n",
    "\n"
   ]
  },
  {
   "cell_type": "code",
   "execution_count": 15,
   "id": "f1229c86",
   "metadata": {},
   "outputs": [
    {
     "name": "stdout",
     "output_type": "stream",
     "text": [
      "('qwerty', 'asdf', 'changed value using index in list')\n",
      "('asdf', 'changed value using index in list', 'changed value using remove and add in tuple')\n",
      "('zxcvb', 'changed value using remove and add in tuple', 'asdf')\n"
     ]
    }
   ],
   "source": [
    "# 9. Write 3 examples on possible methods to changing a tuple\n",
    "# Method 1\n",
    "tuple_1 = (\"qwerty\", \"asdf\", \"zxcvb\")\n",
    "tuple_list = list(tuple_1)\n",
    "tuple_list[2] = \"changed value using index in list\"\n",
    "tuple_1 = tuple(tuple_list)\n",
    "print(tuple_1)\n",
    "\n",
    "# Method 2\n",
    "tuple_list.remove('qwerty')\n",
    "tuple_list.append(\"changed value using remove and add in tuple\")\n",
    "tuple_2 = tuple(tuple_list)\n",
    "print(tuple_2)\n",
    "\n",
    "# Method 3\n",
    "tuple_3 = (\"qwerty\", \"asdf\", \"zxcvb\")\n",
    "tuple_set = set(tuple_3)\n",
    "tuple_set.remove('qwerty')\n",
    "tuple_set.add(\"changed value using remove and add in tuple\")\n",
    "tuple_3 = tuple(tuple_set)\n",
    "print(tuple_3)"
   ]
  },
  {
   "cell_type": "code",
   "execution_count": 16,
   "id": "5906d3f4",
   "metadata": {},
   "outputs": [],
   "source": [
    "# 10.Create the string, int and float variable and delete them all in the next cell\n",
    "string_val = \"String\"\n",
    "int_val = 123\n",
    "float_val = 456.789"
   ]
  },
  {
   "cell_type": "code",
   "execution_count": 17,
   "id": "5515b65f",
   "metadata": {},
   "outputs": [],
   "source": [
    "del string_val\n",
    "del int_val\n",
    "del float_val"
   ]
  },
  {
   "cell_type": "code",
   "execution_count": 18,
   "id": "151a24dd",
   "metadata": {},
   "outputs": [
    {
     "ename": "NameError",
     "evalue": "name 'string_val' is not defined",
     "output_type": "error",
     "traceback": [
      "\u001b[1;31m---------------------------------------------------------------------------\u001b[0m",
      "\u001b[1;31mNameError\u001b[0m                                 Traceback (most recent call last)",
      "Input \u001b[1;32mIn [18]\u001b[0m, in \u001b[0;36m<cell line: 1>\u001b[1;34m()\u001b[0m\n\u001b[1;32m----> 1\u001b[0m \u001b[38;5;28mprint\u001b[39m(\u001b[43mstring_val\u001b[49m, int_val, float_val)\n",
      "\u001b[1;31mNameError\u001b[0m: name 'string_val' is not defined"
     ]
    }
   ],
   "source": [
    "print(string_val, int_val, float_val)"
   ]
  },
  {
   "cell_type": "code",
   "execution_count": 19,
   "id": "89a6806b",
   "metadata": {},
   "outputs": [
    {
     "name": "stdout",
     "output_type": "stream",
     "text": [
      "False\n"
     ]
    }
   ],
   "source": [
    "# 11. Create a string variable for the word “Data Science” and see if the letter “s” is present in it using membership operators\n",
    "string = \"Data Science\"\n",
    "print('s' in string)"
   ]
  },
  {
   "cell_type": "code",
   "execution_count": 20,
   "id": "3acd477a",
   "metadata": {},
   "outputs": [
    {
     "name": "stdout",
     "output_type": "stream",
     "text": [
      "['False', 'None', 'True', '__peg_parser__', 'and', 'as', 'assert', 'async', 'await', 'break', 'class', 'continue', 'def', 'del', 'elif', 'else', 'except', 'finally', 'for', 'from', 'global', 'if', 'import', 'in', 'is', 'lambda', 'nonlocal', 'not', 'or', 'pass', 'raise', 'return', 'try', 'while', 'with', 'yield']\n"
     ]
    }
   ],
   "source": [
    "# 12.What’s the result of assigning a value to a ‘keyword’?\n",
    "\n",
    "#a. Please highlight the error\n",
    "\n",
    "import keyword\n",
    "print(keyword.kwlist)"
   ]
  },
  {
   "cell_type": "code",
   "execution_count": 21,
   "id": "e5ebe20c",
   "metadata": {},
   "outputs": [],
   "source": [
    "# 13. How to write a multi-line statement and assign it to a variable \n",
    "#(Note: Without using a backslash “\\” at the end of each line)\n",
    "multi_line_statement_1 = [1, 2, 3, 4,\n",
    "                         5, 6, 7, 8, 9]\n",
    "multi_line_statement_2 = {1, 2, 3, 4,\n",
    "                         5, 6, 7, 8, 9}\n",
    "multi_line_statement_3 = (1, 2, 3, 4, 5, \n",
    "                         6, 7, 8, 9)"
   ]
  },
  {
   "cell_type": "code",
   "execution_count": 22,
   "id": "831e263b",
   "metadata": {},
   "outputs": [
    {
     "name": "stdout",
     "output_type": "stream",
     "text": [
      "100 108 116 124 132 140 148 156 164 172 180 188 196 204 212 220 228 236 244 252 260 268 276 284 292 300 308 316 324 332 340 348 356 364 372 380 388 396 404 412 420 428 436 444 452 460 468 476 484 492 500 508 516 524 532 540 548 556 564 572 580 588 596 604 612 620 628 636 644 652 660 668 676 684 692 700 708 716 724 732 740 748 756 764 772 780 788 796 804 812 820 828 836 844 852 860 868 876 884 892 900 908 916 924 932 940 948 956 964 972 980 988 996 "
     ]
    },
    {
     "data": {
      "text/plain": [
       "[None,\n",
       " None,\n",
       " None,\n",
       " None,\n",
       " None,\n",
       " None,\n",
       " None,\n",
       " None,\n",
       " None,\n",
       " None,\n",
       " None,\n",
       " None,\n",
       " None,\n",
       " None,\n",
       " None,\n",
       " None,\n",
       " None,\n",
       " None,\n",
       " None,\n",
       " None,\n",
       " None,\n",
       " None,\n",
       " None,\n",
       " None,\n",
       " None,\n",
       " None,\n",
       " None,\n",
       " None,\n",
       " None,\n",
       " None,\n",
       " None,\n",
       " None,\n",
       " None,\n",
       " None,\n",
       " None,\n",
       " None,\n",
       " None,\n",
       " None,\n",
       " None,\n",
       " None,\n",
       " None,\n",
       " None,\n",
       " None,\n",
       " None,\n",
       " None,\n",
       " None,\n",
       " None,\n",
       " None,\n",
       " None,\n",
       " None,\n",
       " None,\n",
       " None,\n",
       " None,\n",
       " None,\n",
       " None,\n",
       " None,\n",
       " None,\n",
       " None,\n",
       " None,\n",
       " None,\n",
       " None,\n",
       " None,\n",
       " None,\n",
       " None,\n",
       " None,\n",
       " None,\n",
       " None,\n",
       " None,\n",
       " None,\n",
       " None,\n",
       " None,\n",
       " None,\n",
       " None,\n",
       " None,\n",
       " None,\n",
       " None,\n",
       " None,\n",
       " None,\n",
       " None,\n",
       " None,\n",
       " None,\n",
       " None,\n",
       " None,\n",
       " None,\n",
       " None,\n",
       " None,\n",
       " None,\n",
       " None,\n",
       " None,\n",
       " None,\n",
       " None,\n",
       " None,\n",
       " None,\n",
       " None,\n",
       " None,\n",
       " None,\n",
       " None,\n",
       " None,\n",
       " None,\n",
       " None,\n",
       " None,\n",
       " None,\n",
       " None,\n",
       " None,\n",
       " None,\n",
       " None,\n",
       " None,\n",
       " None,\n",
       " None,\n",
       " None,\n",
       " None,\n",
       " None,\n",
       " None]"
      ]
     },
     "execution_count": 22,
     "metadata": {},
     "output_type": "execute_result"
    }
   ],
   "source": [
    "# 14. . Print the list of numbers from 100 to 999 with an interval (step size) of 8 between the numbers\n",
    "[print(num, end=\" \") for num in range(100, 1000, 8)]"
   ]
  },
  {
   "cell_type": "code",
   "execution_count": 23,
   "id": "99307886",
   "metadata": {},
   "outputs": [
    {
     "name": "stdout",
     "output_type": "stream",
     "text": [
      "0\n",
      "1\n",
      "2\n",
      "3\n",
      "4\n"
     ]
    }
   ],
   "source": [
    "# 15. Write a “for” loop to print out the ‘n’ values and break out of the statement if the value is ‘n/2’\n",
    "n = 10\n",
    "for i in range(n):\n",
    "    if i != n/2:\n",
    "        print(i)\n",
    "    else:\n",
    "        break"
   ]
  },
  {
   "cell_type": "code",
   "execution_count": 24,
   "id": "65fa32ad",
   "metadata": {},
   "outputs": [
    {
     "name": "stdout",
     "output_type": "stream",
     "text": [
      "Says about what the function does\n",
      "\n",
      "Help on function docstring_function in module __main__:\n",
      "\n",
      "docstring_function()\n",
      "    Says about what the function does\n",
      "\n"
     ]
    }
   ],
   "source": [
    "# 16.Write a simple function and call the docstring from outside the function\n",
    "def docstring_function():\n",
    "    \"\"\"Says about what the function does\"\"\"\n",
    "    return None\n",
    "print(docstring_function.__doc__, end=\"\\n\\n\")\n",
    "help(docstring_function)\n"
   ]
  },
  {
   "cell_type": "code",
   "execution_count": 25,
   "id": "b5275642",
   "metadata": {},
   "outputs": [
    {
     "name": "stdout",
     "output_type": "stream",
     "text": [
      "1 3 5 7 9 11 13 15 17 19 21 23 25 27 29 31 33 35 37 39 41 43 45 47 49 51 53 55 57 59 61 63 65 67 69 71 73 75 77 79 81 83 85 87 89 91 93 95 97 99 "
     ]
    },
    {
     "data": {
      "text/plain": [
       "[None,\n",
       " None,\n",
       " None,\n",
       " None,\n",
       " None,\n",
       " None,\n",
       " None,\n",
       " None,\n",
       " None,\n",
       " None,\n",
       " None,\n",
       " None,\n",
       " None,\n",
       " None,\n",
       " None,\n",
       " None,\n",
       " None,\n",
       " None,\n",
       " None,\n",
       " None,\n",
       " None,\n",
       " None,\n",
       " None,\n",
       " None,\n",
       " None,\n",
       " None,\n",
       " None,\n",
       " None,\n",
       " None,\n",
       " None,\n",
       " None,\n",
       " None,\n",
       " None,\n",
       " None,\n",
       " None,\n",
       " None,\n",
       " None,\n",
       " None,\n",
       " None,\n",
       " None,\n",
       " None,\n",
       " None,\n",
       " None,\n",
       " None,\n",
       " None,\n",
       " None,\n",
       " None,\n",
       " None,\n",
       " None,\n",
       " None]"
      ]
     },
     "execution_count": 25,
     "metadata": {},
     "output_type": "execute_result"
    }
   ],
   "source": [
    "# 17. Write a list comprehension to print the odd numbers from 0 to 100\n",
    "\n",
    "[print(num, end=' ') for num in range(100) if num % 2 != 0]"
   ]
  },
  {
   "cell_type": "code",
   "execution_count": 28,
   "id": "b2f10ef7",
   "metadata": {},
   "outputs": [
    {
     "name": "stdout",
     "output_type": "stream",
     "text": [
      "h\n",
      "m\n",
      "c\n",
      "h\n",
      "n\n",
      "d\n",
      "r\n",
      "b\n"
     ]
    },
    {
     "data": {
      "text/plain": [
       "[None, None, None, None, None, None, None, None]"
      ]
     },
     "execution_count": 28,
     "metadata": {},
     "output_type": "execute_result"
    }
   ],
   "source": [
    "# 18. Create a variable (ex: name) and store your full name in it. Then write a list comprehension to print your name excluding vowels (a, e, i, o, u)\n",
    "\n",
    "# a. Ex: name = Imran\n",
    "\n",
    "# Output = [‘m’, ‘r’, ‘n’]\n",
    "name = \"Hema Chandrao B\"\n",
    "name = name.lower().replace(' ', '')\n",
    "vowels = \"aeiou\"\n",
    "[print(c) for c in name if c not in vowels]"
   ]
  },
  {
   "cell_type": "code",
   "execution_count": 29,
   "id": "6ffee5b2",
   "metadata": {},
   "outputs": [
    {
     "name": "stdout",
     "output_type": "stream",
     "text": [
      "55\n"
     ]
    }
   ],
   "source": [
    "# 19. What’s recursion? \n",
    "#Explain in your own words and write a program to create a recursive function to calculate the sum of numbers from 0 to 10\n",
    "def recursion_sum(n):\n",
    "    if n <= 1:\n",
    "        return n\n",
    "    return recursion_sum(n-1)+n\n",
    "\n",
    "n = 10\n",
    "print(recursion_sum(n))"
   ]
  },
  {
   "cell_type": "code",
   "execution_count": null,
   "id": "ff6a0da3",
   "metadata": {},
   "outputs": [],
   "source": []
  }
 ],
 "metadata": {
  "kernelspec": {
   "display_name": "Python 3 (ipykernel)",
   "language": "python",
   "name": "python3"
  },
  "language_info": {
   "codemirror_mode": {
    "name": "ipython",
    "version": 3
   },
   "file_extension": ".py",
   "mimetype": "text/x-python",
   "name": "python",
   "nbconvert_exporter": "python",
   "pygments_lexer": "ipython3",
   "version": "3.9.12"
  }
 },
 "nbformat": 4,
 "nbformat_minor": 5
}
